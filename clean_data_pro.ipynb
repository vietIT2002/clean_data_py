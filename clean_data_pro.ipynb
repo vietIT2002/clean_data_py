{
 "cells": [
  {
   "cell_type": "code",
   "execution_count": 303,
   "id": "78b2b8ad",
   "metadata": {},
   "outputs": [
    {
     "data": {
      "application/vnd.microsoft.datawrangler.viewer.v0+json": {
       "columns": [
        {
         "name": "index",
         "rawType": "int64",
         "type": "integer"
        },
        {
         "name": "Product List",
         "rawType": "object",
         "type": "string"
        },
        {
         "name": "label",
         "rawType": "object",
         "type": "string"
        }
       ],
       "conversionMethod": "pd.DataFrame",
       "ref": "280a4d14-12f7-4605-af7a-7af8d73a1a38",
       "rows": [
        [
         "0",
         "vải polyester pha viscorayon (vải 65% polyester 35% viscorayon) dệt thoi dùng trong may mặc khổ 58-60\" ( định lượng: 1 mét = 0,4267 kg) hàng mới 100% @",
         "Vải"
        ],
        [
         "1",
         "51024166#&synthetic filament woven fabric, 91%nylon 9%spandex_90dx180d, 109x97, 175g/sqm, 53'', dyed, aquatic ice, for garment use, 100% new",
         "Vải"
        ],
        [
         "2",
         "f48#&woven fabric from linen, 100% linen, woven from yarns of different colors, no streaks, no twill, size 51/52\", weight 142.62g/m2",
         "Vải"
        ],
        [
         "3",
         "vwo-000647-0001#&vải dệt thoi đã nhuộm (54% recycled post-consumer polyester, 46% polyester twill weave 49\") 205g/m2. dùng trong may mặc. mới 100%. @",
         "Vải"
        ],
        [
         "4",
         "gc04#&woven fabric 75% nylon 25% poly size 58\", 149g/yd, 100% new for garment production=4106yd",
         "Vải"
        ],
        [
         "5",
         "nl01#&fabric 100% polyester 44'' (woven fabric, 100% polyester filament density)",
         "Vải"
        ],
        [
         "6",
         "v2#&vải 100% polyester (polyamide) (17856 yds -khổ 59\") @",
         "Vải"
        ],
        [
         "7",
         "soi-78wool22nylon#&yarn 78% wool 22% nylon",
         "Sợi"
        ],
        [
         "8",
         "vcl96pa4el-w#&vải các loại 96% nylon(nylon=polyamide) 4% elastane(lycra=spandex=elastane) (70025377) @",
         "Vải"
        ],
        [
         "9",
         "nl129#&vải 20% cotton 75.5% polyester 4.5% spandex (đã tẩy trắng, đã nhuộm) khổ 55'' trọng lượng 118g/m2.( hàng mới 100%) @",
         "Vải"
        ],
        [
         "10",
         "m005#&vải dệt thoi khác từ sợi bông-100% cottoncd30xcd30, 68x68, plain b/tape 30's-nguyên phụ liệu dùng trong sản xuất nón-57/58 @",
         "Vải"
        ],
        [
         "11",
         "npl16#&woven fabric 59%poly 41%cotton, size 58\" (671yds). 100% new.",
         "Vải"
        ],
        [
         "12",
         "47u#&vải 100% nylon 56\" (fr1200ka) @",
         "Vải"
        ],
        [
         "13",
         "21mrb#&main fabric 100%poly 58-60\"",
         "Vải"
        ],
        [
         "14",
         "r20121170003#&vải dệt thoi không dún, từ sợi filament 100% polyester, 170t, khổ 220cm, w535, định lượng 65g/m2, mới 100% @",
         "Vải"
        ],
        [
         "15",
         "sample woven fabric used in garment, material 100% polyester filament yarn, code: jkb23-002, nsx: suzhou shunging textile co.,ltd, 100% brand new",
         "Vải"
        ],
        [
         "16",
         "v2#&fabric inner of kimono, 100% silk, size: 0.4m length (2-8m)",
         "Vải"
        ],
        [
         "17",
         "fabric_ty3659_3_un3999#&vải dệt thoi khổ 95 cm cotton100% ty3659_3_un3999 @",
         "Vải"
        ],
        [
         "18",
         "mpl002#&vải có tỷ trọng 100% polyester (vải dệt thoi) / sh-488 khổ 60 inch. hàng mới 100% @",
         "Vải"
        ],
        [
         "19",
         "jszw0011#&sợi bông (100% cotton)( sợi bông loại 32/1 (32sjc), sợi đơn làm từ xơ chải kỹ độ mảnh 184.56 decitex, chi số mét 54.176, thành phần 100% cotton, đã nhuộm yc4623d) @",
         "Sợi"
        ],
        [
         "20",
         "yy21001#&sợi đơn 100% cotton làm từ xơ chải kỹ (chưa đóng gói để bán lẻ), độ mảnh 196.83 decitex, chỉ số mét 50.7, chỉ số sợi 30/1 @",
         "Sợi"
        ],
        [
         "21",
         "do moi#&woven fabric made of 100% polyester dyed, cut to support the pants; 100% new; kt: 0.02m2",
         "Vải"
        ],
        [
         "22",
         "nl40#&vải lót 100% polyester \"58/60\" dệt thoi. hàng mới 100% @",
         "Vải"
        ],
        [
         "23",
         "100% new woven burlap fabric 140cm for upholstery (loki)(polyester 58, olefin 42% - 304g/m2)",
         "Vải"
        ],
        [
         "24",
         "v3.100#&52\" 100% nylon woven fabric",
         "Vải"
        ],
        [
         "25",
         "3.44#&main fabric 62% polyester 38% reprocessed polyester. size 57/58\" (woven fabric from dyed, dyed polyester filament yarn, used for sewing garment processing products). 100% new product",
         "Vải"
        ],
        [
         "26",
         "22yl-01#&synthetic filament woven fabric less than 85% polyester mixed with recycled and pu less than 46%, dyed, fabric size 44/60\" weight 79,263g/m2",
         "Vải"
        ],
        [
         "27",
         "07#&vải cotton: dạng dệt thoi, thành phần 100% cotton, đã nhuộm, có vân điểm, 218g/m2, khổ rộng 36\", 44\", 54\", nguyên phụ liệu dùng sản xuất giày xuất khẩu, hàng mới 100% @",
         "Vải"
        ],
        [
         "28",
         "tj133#&vải chính typ0527 polyester 100% woven fabric w.145cm @",
         "Vải"
        ],
        [
         "29",
         "mp110010012#&dyed woven fabric (lining fabric), no printed pattern size 58\"/textile-80% recycle polyester +20% spandex-dyed ,not printed-58\"/250g",
         "Vải"
        ],
        [
         "30",
         "nep truoc t+p#&woven fabric from synthetic filament yarn composed of 93% polyester, 7% dyed cotton, cut to make left and right front straps, 100% new, size: 0.06m2",
         "Vải"
        ],
        [
         "31",
         "nl001#&vải dệt thoi 97% cotton, 3% spandex khổ 57\" ( 1,510.1 mtr) @",
         "Vải"
        ],
        [
         "32",
         "f0436#&80%polyester 20%cotton fabric size 56/62\" (k.147cm, 88gsm, woven fabric, used for garments, 100% new)",
         "Vải"
        ],
        [
         "33",
         "vthm-y#&synthetic staple fiber woven fabric yrd/11k rec poly pag 2 dty (100%) dj-570-8r(100%) 44\"",
         "Nguyên_Liệu"
        ],
        [
         "34",
         "soi075#&synthetic filament yarn 100% polyester dty sd recycled 50d/24f(55.5dtex/24f) sim s twist aay grade, white yarn, in rolls, for fabric production, brand:no. 100% new",
         "Vải"
        ],
        [
         "35",
         "fw001#&vải dệt thoi 57%cotton 38%brrr nylon 5 %spandex khổ 52\" 107g/m2, đã nhuộm, mới 100% @",
         "Vải"
        ],
        [
         "36",
         "woven fabric made of filament yarn 100 (100% new, composed of 100% unwrinkled, unbleached polyester filament yarn, weight 48.42g/m2, size 1.58m, used to produce printed screen frames)",
         "Vải"
        ],
        [
         "37",
         "sợi dún 20/30/24f thành phần gồm 79% multifilament nylon 21%sợi đàn hồi polyeurethane spandex chưa đóng gói để bán lẻ,mới 100% @",
         "Sợi"
        ],
        [
         "38",
         "v01#&vải dệt thoi có tỷ trọng sợi filament bằng nylon từ 85% trở lên, đã nhuộm. vải dệt thoi 65% recycle nylon 30% nylon, 5% spandex. khổ 56\". 5,521 m, hàng mới 100% @",
         "Vải"
        ],
        [
         "39",
         "m-vc427#&main fabric 49%viscose 47%polyester 4%elastane, size: 50/52\"_goods shipped domestically from account: 10283398350/e31",
         "Vải"
        ],
        [
         "40",
         "104tc#&tc yarn: yarn from synthetic staple fiber, ne 32/1 (cotton 30%/polyester 70%). yarn from polyester staple fiber mixed with cotton.",
         "Sợi"
        ],
        [
         "41",
         "woven fabric (fabric-3) from yarns of different colors, 100% polyester twill, dyed, size 145cm, weight 182g/m2, unbranded, with label. used to cover sofas. new 100%",
         "Vải"
        ],
        [
         "42",
         "vd56#&vải vân điểm khổ 56 inch (vải dệt thoi 100% cotton đã nhuộm trọng lượng 283g/m2) dùng để làm giày @",
         "Vải"
        ],
        [
         "43",
         "v14#&vải cotton 100% - khổ 1.02m @",
         "Vải"
        ],
        [
         "44",
         "vải dệt thoi từ bông v0137k1t1d denim fabric c:75% p:24% ly:1%trọng lượng trên 200g/m2, từ các sợi có màu khác nhau, hàng mới 100%, đg: . @",
         "Vải"
        ],
        [
         "45",
         "nvl38#&synthetic filament woven fabric - dyed - other, code 000tfabbangkok, 65% polyester, 35% cotton, size 147 cm, weight 165g/sqm. new 100%",
         "Vải"
        ],
        [
         "46",
         "a744-s01#&dyeed 100% recycled polyester woven fabric, dyed-70 g/m2-woven (l: 258 yds,w: 56 inches). 100% new",
         "Vải"
        ],
        [
         "47",
         "fab000115#&woven fabric from synthetic filament yarn 90% nylon 10% spandex (elastane), dyed, cut width 137.16 cm (54 inches), width including edges 56 inches, 66g/m2. new 100%",
         "Vải"
        ],
        [
         "48",
         "npl03#&vải dệt thoi từ sợi filament polyester dún, đã nhuộm polyester 100% khổ 148cm, 136g/m2 @",
         "Vải"
        ],
        [
         "49",
         "npl02#&woven fabric from unrubbed polyester filament yarn, dyed 100% polyester, size 148cm, 75g/m2",
         "Vải"
        ]
       ],
       "shape": {
        "columns": 2,
        "rows": 49988
       }
      },
      "text/html": [
       "<div>\n",
       "<style scoped>\n",
       "    .dataframe tbody tr th:only-of-type {\n",
       "        vertical-align: middle;\n",
       "    }\n",
       "\n",
       "    .dataframe tbody tr th {\n",
       "        vertical-align: top;\n",
       "    }\n",
       "\n",
       "    .dataframe thead th {\n",
       "        text-align: right;\n",
       "    }\n",
       "</style>\n",
       "<table border=\"1\" class=\"dataframe\">\n",
       "  <thead>\n",
       "    <tr style=\"text-align: right;\">\n",
       "      <th></th>\n",
       "      <th>Product List</th>\n",
       "      <th>label</th>\n",
       "    </tr>\n",
       "  </thead>\n",
       "  <tbody>\n",
       "    <tr>\n",
       "      <th>0</th>\n",
       "      <td>vải polyester pha viscorayon (vải 65% polyeste...</td>\n",
       "      <td>Vải</td>\n",
       "    </tr>\n",
       "    <tr>\n",
       "      <th>1</th>\n",
       "      <td>51024166#&amp;synthetic filament woven fabric, 91%...</td>\n",
       "      <td>Vải</td>\n",
       "    </tr>\n",
       "    <tr>\n",
       "      <th>2</th>\n",
       "      <td>f48#&amp;woven fabric from linen, 100% linen, wove...</td>\n",
       "      <td>Vải</td>\n",
       "    </tr>\n",
       "    <tr>\n",
       "      <th>3</th>\n",
       "      <td>vwo-000647-0001#&amp;vải dệt thoi đã nhuộm (54% re...</td>\n",
       "      <td>Vải</td>\n",
       "    </tr>\n",
       "    <tr>\n",
       "      <th>4</th>\n",
       "      <td>gc04#&amp;woven fabric 75% nylon 25% poly size 58\"...</td>\n",
       "      <td>Vải</td>\n",
       "    </tr>\n",
       "    <tr>\n",
       "      <th>...</th>\n",
       "      <td>...</td>\n",
       "      <td>...</td>\n",
       "    </tr>\n",
       "    <tr>\n",
       "      <th>49983</th>\n",
       "      <td>93#&amp;woven fabrics - woven fabrics - dyed, city...</td>\n",
       "      <td>Vải</td>\n",
       "    </tr>\n",
       "    <tr>\n",
       "      <th>49984</th>\n",
       "      <td>007#&amp;sợi cotton 100%- 100% cotton (supima) raw...</td>\n",
       "      <td>Sợi</td>\n",
       "    </tr>\n",
       "    <tr>\n",
       "      <th>49985</th>\n",
       "      <td>y0008#&amp;sợi 100% cotton sa201020a-oe 10s/1 sợi ...</td>\n",
       "      <td>Sợi</td>\n",
       "    </tr>\n",
       "    <tr>\n",
       "      <th>49986</th>\n",
       "      <td>113.fa.p/t.075d220tp#&amp;woven fabric 220t/p75d*1...</td>\n",
       "      <td>Vải</td>\n",
       "    </tr>\n",
       "    <tr>\n",
       "      <th>49987</th>\n",
       "      <td>4l50b25r-na#&amp;vải chính 100% nylon 4l50b25r-na ...</td>\n",
       "      <td>Vải</td>\n",
       "    </tr>\n",
       "  </tbody>\n",
       "</table>\n",
       "<p>49988 rows × 2 columns</p>\n",
       "</div>"
      ],
      "text/plain": [
       "                                            Product List label\n",
       "0      vải polyester pha viscorayon (vải 65% polyeste...   Vải\n",
       "1      51024166#&synthetic filament woven fabric, 91%...   Vải\n",
       "2      f48#&woven fabric from linen, 100% linen, wove...   Vải\n",
       "3      vwo-000647-0001#&vải dệt thoi đã nhuộm (54% re...   Vải\n",
       "4      gc04#&woven fabric 75% nylon 25% poly size 58\"...   Vải\n",
       "...                                                  ...   ...\n",
       "49983  93#&woven fabrics - woven fabrics - dyed, city...   Vải\n",
       "49984  007#&sợi cotton 100%- 100% cotton (supima) raw...   Sợi\n",
       "49985  y0008#&sợi 100% cotton sa201020a-oe 10s/1 sợi ...   Sợi\n",
       "49986  113.fa.p/t.075d220tp#&woven fabric 220t/p75d*1...   Vải\n",
       "49987  4l50b25r-na#&vải chính 100% nylon 4l50b25r-na ...   Vải\n",
       "\n",
       "[49988 rows x 2 columns]"
      ]
     },
     "execution_count": 303,
     "metadata": {},
     "output_type": "execute_result"
    }
   ],
   "source": [
    "import pandas as pd\n",
    "\n",
    "# Đọc dữ liệu từ file\n",
    "df = pd.read_excel('du_lieu_mau_50k.xlsx')\n",
    "df"
   ]
  },
  {
   "cell_type": "code",
   "execution_count": null,
   "id": "87bc06ad",
   "metadata": {},
   "outputs": [
    {
     "data": {
      "application/vnd.microsoft.datawrangler.viewer.v0+json": {
       "columns": [
        {
         "name": "index",
         "rawType": "int64",
         "type": "integer"
        },
        {
         "name": "Product List",
         "rawType": "object",
         "type": "string"
        },
        {
         "name": "Product",
         "rawType": "object",
         "type": "string"
        }
       ],
       "conversionMethod": "pd.DataFrame",
       "ref": "32507635-cd1c-4b2c-b6a4-504575dedb63",
       "rows": [
        [
         "0",
         "vải polyester pha viscorayon (vải 65% polyester 35% viscorayon) dệt thoi dùng trong may mặc khổ 58-60\" ( định lượng: 1 mét = 0,4267 kg) hàng mới 100% @",
         "vải polyester pha viscorayon (vải"
        ],
        [
         "1",
         "synthetic filament woven fabric, 91%nylon 9%spandex_90dx180d, 109x97, 175g/sqm, 53'', dyed, aquatic ice, for garment use, 100% new",
         "synthetic filament woven fabric,"
        ],
        [
         "2",
         "woven fabric from linen, 100% linen, woven from yarns of different colors, no streaks, no twill, size 51/52\", weight 142.62g/m2",
         "woven fabric from linen,"
        ],
        [
         "3",
         "vải dệt thoi đã nhuộm (54% recycled post-consumer polyester, 46% polyester twill weave 49\") 205g/m2. dùng trong may mặc. mới 100%. @",
         "vải dệt thoi đã nhuộm ("
        ],
        [
         "4",
         "woven fabric 75% nylon 25% poly size 58\", 149g/yd, 100% new for garment production=4106yd",
         "woven fabric"
        ],
        [
         "5",
         "fabric 100% polyester 44'' (woven fabric, 100% polyester filament density)",
         "fabric"
        ],
        [
         "6",
         "vải 100% polyester (polyamide) (17856 yds -khổ 59\") @",
         "vải"
        ],
        [
         "7",
         "yarn 78% wool 22% nylon",
         "yarn"
        ],
        [
         "8",
         "vải các loại 96% nylon(nylon=polyamide) 4% elastane(lycra=spandex=elastane) (70025377) @",
         "vải các loại"
        ],
        [
         "9",
         "vải 20% cotton 75.5% polyester 4.5% spandex (đã tẩy trắng, đã nhuộm) khổ 55'' trọng lượng 118g/m2.( hàng mới 100%) @",
         "vải"
        ],
        [
         "10",
         "vải dệt thoi khác từ sợi bông-100% cottoncd30xcd30, 68x68, plain b/tape 30's-nguyên phụ liệu dùng trong sản xuất nón-57/58 @",
         "vải dệt thoi khác từ sợi bông-"
        ],
        [
         "11",
         "woven fabric 59%poly 41%cotton, size 58\" (671yds). 100% new.",
         "woven fabric"
        ],
        [
         "12",
         "vải 100% nylon 56\" (fr1200ka) @",
         "vải"
        ],
        [
         "13",
         "main fabric 100%poly 58-60\"",
         "main fabric"
        ],
        [
         "14",
         "vải dệt thoi không dún, từ sợi filament 100% polyester, 170t, khổ 220cm, w535, định lượng 65g/m2, mới 100% @",
         "vải dệt thoi không dún, từ sợi filament"
        ],
        [
         "15",
         "sample woven fabric used in garment, material 100% polyester filament yarn, code: jkb23-002, nsx: suzhou shunging textile co.,ltd, 100% brand new",
         "sample woven fabric used in garment, material"
        ],
        [
         "16",
         "fabric inner of kimono, 100% silk, size: 0.4m length (2-8m)",
         "fabric inner of kimono,"
        ],
        [
         "17",
         "vải dệt thoi khổ 95 cm cotton100% ty3659_3_un3999 @",
         "vải dệt thoi khổ 95 cm cotton"
        ],
        [
         "18",
         "vải có tỷ trọng 100% polyester (vải dệt thoi) / sh-488 khổ 60 inch. hàng mới 100% @",
         "vải có tỷ trọng"
        ],
        [
         "19",
         "sợi bông (100% cotton)( sợi bông loại 32/1 (32sjc), sợi đơn làm từ xơ chải kỹ độ mảnh 184.56 decitex, chi số mét 54.176, thành phần 100% cotton, đã nhuộm yc4623d) @",
         "sợi bông ("
        ],
        [
         "20",
         "sợi đơn 100% cotton làm từ xơ chải kỹ (chưa đóng gói để bán lẻ), độ mảnh 196.83 decitex, chỉ số mét 50.7, chỉ số sợi 30/1 @",
         "sợi đơn"
        ],
        [
         "21",
         "woven fabric made of 100% polyester dyed, cut to support the pants; 100% new; kt: 0.02m2",
         "woven fabric made of"
        ],
        [
         "22",
         "vải lót 100% polyester \"58/60\" dệt thoi. hàng mới 100% @",
         "vải lót"
        ],
        [
         "23",
         "100% new woven burlap fabric 140cm for upholstery (loki)(polyester 58, olefin 42% - 304g/m2)",
         ""
        ],
        [
         "24",
         "52\" 100% nylon woven fabric",
         "52\""
        ],
        [
         "25",
         "main fabric 62% polyester 38% reprocessed polyester. size 57/58\" (woven fabric from dyed, dyed polyester filament yarn, used for sewing garment processing products). 100% new product",
         "main fabric"
        ],
        [
         "26",
         "synthetic filament woven fabric less than 85% polyester mixed with recycled and pu less than 46%, dyed, fabric size 44/60\" weight 79,263g/m2",
         "synthetic filament woven fabric less than"
        ],
        [
         "27",
         "vải cotton: dạng dệt thoi, thành phần 100% cotton, đã nhuộm, có vân điểm, 218g/m2, khổ rộng 36\", 44\", 54\", nguyên phụ liệu dùng sản xuất giày xuất khẩu, hàng mới 100% @",
         "vải cotton: dạng dệt thoi, thành phần"
        ],
        [
         "28",
         "vải chính typ0527 polyester 100% woven fabric w.145cm @",
         "vải chính typ0527 polyester"
        ],
        [
         "29",
         "dyed woven fabric (lining fabric), no printed pattern size 58\"/textile-80% recycle polyester +20% spandex-dyed ,not printed-58\"/250g",
         "dyed woven fabric (lining fabric), no printed pattern size 58\"/textile-"
        ],
        [
         "30",
         "woven fabric from synthetic filament yarn composed of 93% polyester, 7% dyed cotton, cut to make left and right front straps, 100% new, size: 0.06m2",
         "woven fabric from synthetic filament yarn composed of"
        ],
        [
         "31",
         "vải dệt thoi 97% cotton, 3% spandex khổ 57\" ( 1,510.1 mtr) @",
         "vải dệt thoi"
        ],
        [
         "32",
         "80%polyester 20%cotton fabric size 56/62\" (k.147cm, 88gsm, woven fabric, used for garments, 100% new)",
         ""
        ],
        [
         "33",
         "synthetic staple fiber woven fabric yrd/11k rec poly pag 2 dty (100%) dj-570-8r(100%) 44\"",
         "synthetic staple fiber woven fabric yrd/11k rec poly pag 2 dty ("
        ],
        [
         "34",
         "synthetic filament yarn 100% polyester dty sd recycled 50d/24f(55.5dtex/24f) sim s twist aay grade, white yarn, in rolls, for fabric production, brand:no. 100% new",
         "synthetic filament yarn"
        ],
        [
         "35",
         "vải dệt thoi 57%cotton 38%brrr nylon 5 %spandex khổ 52\" 107g/m2, đã nhuộm, mới 100% @",
         "vải dệt thoi"
        ],
        [
         "36",
         "woven fabric made of filament yarn 100 (100% new, composed of 100% unwrinkled, unbleached polyester filament yarn, weight 48.42g/m2, size 1.58m, used to produce printed screen frames)",
         "woven fabric made of filament yarn 100 ("
        ],
        [
         "37",
         "sợi dún 20/30/24f thành phần gồm 79% multifilament nylon 21%sợi đàn hồi polyeurethane spandex chưa đóng gói để bán lẻ,mới 100% @",
         "sợi dún 20/30/24f thành phần gồm"
        ],
        [
         "38",
         "vải dệt thoi có tỷ trọng sợi filament bằng nylon từ 85% trở lên, đã nhuộm. vải dệt thoi 65% recycle nylon 30% nylon, 5% spandex. khổ 56\". 5,521 m, hàng mới 100% @",
         "vải dệt thoi có tỷ trọng sợi filament bằng nylon từ"
        ],
        [
         "39",
         "main fabric 49%viscose 47%polyester 4%elastane, size: 50/52\"_goods shipped domestically from account: 10283398350/e31",
         "main fabric"
        ],
        [
         "40",
         "tc yarn: yarn from synthetic staple fiber, ne 32/1 (cotton 30%/polyester 70%). yarn from polyester staple fiber mixed with cotton.",
         "tc yarn: yarn from synthetic staple fiber, ne 32/1 (cotton"
        ],
        [
         "41",
         "woven fabric (fabric-3) from yarns of different colors, 100% polyester twill, dyed, size 145cm, weight 182g/m2, unbranded, with label. used to cover sofas. new 100%",
         "woven fabric (fabric-3) from yarns of different colors,"
        ],
        [
         "42",
         "vải vân điểm khổ 56 inch (vải dệt thoi 100% cotton đã nhuộm trọng lượng 283g/m2) dùng để làm giày @",
         "vải vân điểm khổ 56 inch (vải dệt thoi"
        ],
        [
         "43",
         "vải cotton 100% - khổ 1.02m @",
         "vải cotton"
        ],
        [
         "44",
         "vải dệt thoi từ bông v0137k1t1d denim fabric c:75% p:24% ly:1%trọng lượng trên 200g/m2, từ các sợi có màu khác nhau, hàng mới 100%, đg: . @",
         "vải dệt thoi từ bông v0137k1t1d denim fabric c:"
        ],
        [
         "45",
         "synthetic filament woven fabric - dyed - other, code 000tfabbangkok, 65% polyester, 35% cotton, size 147 cm, weight 165g/sqm. new 100%",
         "synthetic filament woven fabric - dyed - other, code 000tfabbangkok,"
        ],
        [
         "46",
         "dyeed 100% recycled polyester woven fabric, dyed-70 g/m2-woven (l: 258 yds,w: 56 inches). 100% new",
         "dyeed"
        ],
        [
         "47",
         "woven fabric from synthetic filament yarn 90% nylon 10% spandex (elastane), dyed, cut width 137.16 cm (54 inches), width including edges 56 inches, 66g/m2. new 100%",
         "woven fabric from synthetic filament yarn"
        ],
        [
         "48",
         "vải dệt thoi từ sợi filament polyester dún, đã nhuộm polyester 100% khổ 148cm, 136g/m2 @",
         "vải dệt thoi từ sợi filament polyester dún, đã nhuộm polyester"
        ],
        [
         "49",
         "woven fabric from unrubbed polyester filament yarn, dyed 100% polyester, size 148cm, 75g/m2",
         "woven fabric from unrubbed polyester filament yarn, dyed"
        ]
       ],
       "shape": {
        "columns": 2,
        "rows": 49988
       }
      },
      "text/html": [
       "<div>\n",
       "<style scoped>\n",
       "    .dataframe tbody tr th:only-of-type {\n",
       "        vertical-align: middle;\n",
       "    }\n",
       "\n",
       "    .dataframe tbody tr th {\n",
       "        vertical-align: top;\n",
       "    }\n",
       "\n",
       "    .dataframe thead th {\n",
       "        text-align: right;\n",
       "    }\n",
       "</style>\n",
       "<table border=\"1\" class=\"dataframe\">\n",
       "  <thead>\n",
       "    <tr style=\"text-align: right;\">\n",
       "      <th></th>\n",
       "      <th>Product List</th>\n",
       "      <th>Product</th>\n",
       "    </tr>\n",
       "  </thead>\n",
       "  <tbody>\n",
       "    <tr>\n",
       "      <th>0</th>\n",
       "      <td>vải polyester pha viscorayon (vải 65% polyeste...</td>\n",
       "      <td>vải polyester pha viscorayon (vải</td>\n",
       "    </tr>\n",
       "    <tr>\n",
       "      <th>1</th>\n",
       "      <td>synthetic filament woven fabric, 91%nylon 9%sp...</td>\n",
       "      <td>synthetic filament woven fabric,</td>\n",
       "    </tr>\n",
       "    <tr>\n",
       "      <th>2</th>\n",
       "      <td>woven fabric from linen, 100% linen, woven fro...</td>\n",
       "      <td>woven fabric from linen,</td>\n",
       "    </tr>\n",
       "    <tr>\n",
       "      <th>3</th>\n",
       "      <td>vải dệt thoi đã nhuộm (54% recycled post-consu...</td>\n",
       "      <td>vải dệt thoi đã nhuộm (</td>\n",
       "    </tr>\n",
       "    <tr>\n",
       "      <th>4</th>\n",
       "      <td>woven fabric 75% nylon 25% poly size 58\", 149g...</td>\n",
       "      <td>woven fabric</td>\n",
       "    </tr>\n",
       "    <tr>\n",
       "      <th>...</th>\n",
       "      <td>...</td>\n",
       "      <td>...</td>\n",
       "    </tr>\n",
       "    <tr>\n",
       "      <th>49983</th>\n",
       "      <td>woven fabrics - woven fabrics - dyed, city: 54...</td>\n",
       "      <td>woven fabrics - woven fabrics - dyed, city:</td>\n",
       "    </tr>\n",
       "    <tr>\n",
       "      <th>49984</th>\n",
       "      <td>sợi cotton 100%- 100% cotton (supima) raw whit...</td>\n",
       "      <td>sợi cotton</td>\n",
       "    </tr>\n",
       "    <tr>\n",
       "      <th>49985</th>\n",
       "      <td>sợi 100% cotton sa201020a-oe 10s/1 sợi đơn, là...</td>\n",
       "      <td>sợi</td>\n",
       "    </tr>\n",
       "    <tr>\n",
       "      <th>49986</th>\n",
       "      <td>woven fabric 220t/p75d*150d peack skin microfi...</td>\n",
       "      <td>woven fabric 220t/p75d*150d peack skin microfi...</td>\n",
       "    </tr>\n",
       "    <tr>\n",
       "      <th>49987</th>\n",
       "      <td>vải chính 100% nylon 4l50b25r-na khổ 200 cm (n...</td>\n",
       "      <td>vải chính</td>\n",
       "    </tr>\n",
       "  </tbody>\n",
       "</table>\n",
       "<p>49988 rows × 2 columns</p>\n",
       "</div>"
      ],
      "text/plain": [
       "                                            Product List  \\\n",
       "0      vải polyester pha viscorayon (vải 65% polyeste...   \n",
       "1      synthetic filament woven fabric, 91%nylon 9%sp...   \n",
       "2      woven fabric from linen, 100% linen, woven fro...   \n",
       "3      vải dệt thoi đã nhuộm (54% recycled post-consu...   \n",
       "4      woven fabric 75% nylon 25% poly size 58\", 149g...   \n",
       "...                                                  ...   \n",
       "49983  woven fabrics - woven fabrics - dyed, city: 54...   \n",
       "49984  sợi cotton 100%- 100% cotton (supima) raw whit...   \n",
       "49985  sợi 100% cotton sa201020a-oe 10s/1 sợi đơn, là...   \n",
       "49986  woven fabric 220t/p75d*150d peack skin microfi...   \n",
       "49987  vải chính 100% nylon 4l50b25r-na khổ 200 cm (n...   \n",
       "\n",
       "                                                 Product  \n",
       "0                      vải polyester pha viscorayon (vải  \n",
       "1                       synthetic filament woven fabric,  \n",
       "2                               woven fabric from linen,  \n",
       "3                                vải dệt thoi đã nhuộm (  \n",
       "4                                           woven fabric  \n",
       "...                                                  ...  \n",
       "49983        woven fabrics - woven fabrics - dyed, city:  \n",
       "49984                                         sợi cotton  \n",
       "49985                                                sợi  \n",
       "49986  woven fabric 220t/p75d*150d peack skin microfi...  \n",
       "49987                                          vải chính  \n",
       "\n",
       "[49988 rows x 2 columns]"
      ]
     },
     "execution_count": 304,
     "metadata": {},
     "output_type": "execute_result"
    }
   ],
   "source": [
    "df['Product'] = df['Product List'].str.extract(r'^(.*?)(?=\\s?\\d+%|\\s?%)')\n",
    "\n",
    "# def clean_product_names(df):\n",
    "#     # Chỉ xóa #& ở đầu chuỗi trong Product List\n",
    "#     df['Product'] = df['Product'].str.replace(r'^.*#&\\s?', '', regex=True)\n",
    "    \n",
    "#     return df\n",
    "# df = clean_product_names(df)\n",
    "# df['Product List'] = df['Product List'].str.replace(r'^.*#&\\s?', '', regex=True)\n",
    "\n",
    "# Kết quả: DataFrame với các cột cần thiết\n",
    "df_product = df[['Product List', 'Product']]\n",
    "df_product\n"
   ]
  },
  {
   "cell_type": "code",
   "execution_count": 297,
   "id": "4d9c5561",
   "metadata": {},
   "outputs": [
    {
     "data": {
      "application/vnd.microsoft.datawrangler.viewer.v0+json": {
       "columns": [
        {
         "name": "index",
         "rawType": "int64",
         "type": "integer"
        },
        {
         "name": "Product List",
         "rawType": "object",
         "type": "string"
        },
        {
         "name": "Product",
         "rawType": "object",
         "type": "string"
        }
       ],
       "conversionMethod": "pd.DataFrame",
       "ref": "d09db5b1-6ec3-42db-847a-6159ca385b20",
       "rows": [
        [
         "0",
         "vải polyester pha viscorayon (vải 65% polyester 35% viscorayon) dệt thoi dùng trong may mặc khổ 58-60\" ( định lượng: 1 mét = 0,4267 kg) hàng mới 100% @",
         "vải polyester pha viscorayon"
        ],
        [
         "1",
         "synthetic filament woven fabric, 91%nylon 9%spandex_90dx180d, 109x97, 175g/sqm, 53'', dyed, aquatic ice, for garment use, 100% new",
         "synthetic filament woven fabric"
        ],
        [
         "2",
         "woven fabric from linen, 100% linen, woven from yarns of different colors, no streaks, no twill, size 51/52\", weight 142.62g/m2",
         "woven fabric from linen"
        ],
        [
         "3",
         "vải dệt thoi đã nhuộm (54% recycled post-consumer polyester, 46% polyester twill weave 49\") 205g/m2. dùng trong may mặc. mới 100%. @",
         "vải dệt thoi nhuộm"
        ],
        [
         "4",
         "woven fabric 75% nylon 25% poly size 58\", 149g/yd, 100% new for garment production=4106yd",
         "woven fabric"
        ],
        [
         "5",
         "fabric 100% polyester 44'' (woven fabric, 100% polyester filament density)",
         "fabric"
        ],
        [
         "6",
         "vải 100% polyester (polyamide) (17856 yds -khổ 59\") @",
         "vải"
        ],
        [
         "7",
         "yarn 78% wool 22% nylon",
         "yarn"
        ],
        [
         "8",
         "vải các loại 96% nylon(nylon=polyamide) 4% elastane(lycra=spandex=elastane) (70025377) @",
         "vải các loại"
        ],
        [
         "9",
         "vải 20% cotton 75.5% polyester 4.5% spandex (đã tẩy trắng, đã nhuộm) khổ 55'' trọng lượng 118g/m2.( hàng mới 100%) @",
         "vải"
        ],
        [
         "10",
         "vải dệt thoi khác từ sợi bông-100% cottoncd30xcd30, 68x68, plain b/tape 30's-nguyên phụ liệu dùng trong sản xuất nón-57/58 @",
         "vải dệt thoi khác sợi bông"
        ],
        [
         "11",
         "woven fabric 59%poly 41%cotton, size 58\" (671yds). 100% new.",
         "woven fabric"
        ],
        [
         "12",
         "vải 100% nylon 56\" (fr1200ka) @",
         "vải"
        ],
        [
         "13",
         "main fabric 100%poly 58-60\"",
         "main fabric"
        ],
        [
         "14",
         "vải dệt thoi không dún, từ sợi filament 100% polyester, 170t, khổ 220cm, w535, định lượng 65g/m2, mới 100% @",
         "vải dệt thoi không dún"
        ],
        [
         "15",
         "sample woven fabric used in garment, material 100% polyester filament yarn, code: jkb23-002, nsx: suzhou shunging textile co.,ltd, 100% brand new",
         "sample woven fabric used garment"
        ],
        [
         "16",
         "fabric inner of kimono, 100% silk, size: 0.4m length (2-8m)",
         "fabric inner kimono"
        ],
        [
         "17",
         "vải dệt thoi khổ 95 cm cotton100% ty3659_3_un3999 @",
         "vải dệt thoi khổ  cotton"
        ],
        [
         "18",
         "vải có tỷ trọng 100% polyester (vải dệt thoi) / sh-488 khổ 60 inch. hàng mới 100% @",
         "vải trng"
        ],
        [
         "19",
         "sợi bông (100% cotton)( sợi bông loại 32/1 (32sjc), sợi đơn làm từ xơ chải kỹ độ mảnh 184.56 decitex, chi số mét 54.176, thành phần 100% cotton, đã nhuộm yc4623d) @",
         "sợi bông"
        ],
        [
         "20",
         "sợi đơn 100% cotton làm từ xơ chải kỹ (chưa đóng gói để bán lẻ), độ mảnh 196.83 decitex, chỉ số mét 50.7, chỉ số sợi 30/1 @",
         "sợi đơn"
        ],
        [
         "21",
         "woven fabric made of 100% polyester dyed, cut to support the pants; 100% new; kt: 0.02m2",
         "woven fabric made"
        ],
        [
         "22",
         "vải lót 100% polyester \"58/60\" dệt thoi. hàng mới 100% @",
         "vải lót"
        ],
        [
         "24",
         "52\" 100% nylon woven fabric",
         ""
        ],
        [
         "25",
         "main fabric 62% polyester 38% reprocessed polyester. size 57/58\" (woven fabric from dyed, dyed polyester filament yarn, used for sewing garment processing products). 100% new product",
         "main fabric"
        ],
        [
         "26",
         "synthetic filament woven fabric less than 85% polyester mixed with recycled and pu less than 46%, dyed, fabric size 44/60\" weight 79,263g/m2",
         "synthetic filament woven fabric less than"
        ],
        [
         "27",
         "vải cotton: dạng dệt thoi, thành phần 100% cotton, đã nhuộm, có vân điểm, 218g/m2, khổ rộng 36\", 44\", 54\", nguyên phụ liệu dùng sản xuất giày xuất khẩu, hàng mới 100% @",
         "vải cotton dạng dệt thoi"
        ],
        [
         "28",
         "vải chính typ0527 polyester 100% woven fabric w.145cm @",
         "vải chính  polyester"
        ],
        [
         "29",
         "dyed woven fabric (lining fabric), no printed pattern size 58\"/textile-80% recycle polyester +20% spandex-dyed ,not printed-58\"/250g",
         "dyed woven fabric"
        ],
        [
         "30",
         "woven fabric from synthetic filament yarn composed of 93% polyester, 7% dyed cotton, cut to make left and right front straps, 100% new, size: 0.06m2",
         "woven fabric from synthetic filament yarn composed"
        ],
        [
         "31",
         "vải dệt thoi 97% cotton, 3% spandex khổ 57\" ( 1,510.1 mtr) @",
         "vải dệt thoi"
        ],
        [
         "33",
         "synthetic staple fiber woven fabric yrd/11k rec poly pag 2 dty (100%) dj-570-8r(100%) 44\"",
         "synthetic staple fiber woven fabric yrd rec poly pag  dty"
        ],
        [
         "34",
         "synthetic filament yarn 100% polyester dty sd recycled 50d/24f(55.5dtex/24f) sim s twist aay grade, white yarn, in rolls, for fabric production, brand:no. 100% new",
         "synthetic filament yarn"
        ],
        [
         "35",
         "vải dệt thoi 57%cotton 38%brrr nylon 5 %spandex khổ 52\" 107g/m2, đã nhuộm, mới 100% @",
         "vải dệt thoi"
        ],
        [
         "36",
         "woven fabric made of filament yarn 100 (100% new, composed of 100% unwrinkled, unbleached polyester filament yarn, weight 48.42g/m2, size 1.58m, used to produce printed screen frames)",
         "woven fabric made filament yarn"
        ],
        [
         "37",
         "sợi dún 20/30/24f thành phần gồm 79% multifilament nylon 21%sợi đàn hồi polyeurethane spandex chưa đóng gói để bán lẻ,mới 100% @",
         "sợi dún  thành phần gồm"
        ],
        [
         "38",
         "vải dệt thoi có tỷ trọng sợi filament bằng nylon từ 85% trở lên, đã nhuộm. vải dệt thoi 65% recycle nylon 30% nylon, 5% spandex. khổ 56\". 5,521 m, hàng mới 100% @",
         "vải dệt thoi trng sợi filament bằng nylon"
        ],
        [
         "39",
         "main fabric 49%viscose 47%polyester 4%elastane, size: 50/52\"_goods shipped domestically from account: 10283398350/e31",
         "main fabric"
        ],
        [
         "40",
         "tc yarn: yarn from synthetic staple fiber, ne 32/1 (cotton 30%/polyester 70%). yarn from polyester staple fiber mixed with cotton.",
         "tc yarn yarn from synthetic staple fiber"
        ],
        [
         "41",
         "woven fabric (fabric-3) from yarns of different colors, 100% polyester twill, dyed, size 145cm, weight 182g/m2, unbranded, with label. used to cover sofas. new 100%",
         "woven fabric"
        ],
        [
         "42",
         "vải vân điểm khổ 56 inch (vải dệt thoi 100% cotton đã nhuộm trọng lượng 283g/m2) dùng để làm giày @",
         "vải vân điểm khổ  inch"
        ],
        [
         "43",
         "vải cotton 100% - khổ 1.02m @",
         "vải cotton"
        ],
        [
         "44",
         "vải dệt thoi từ bông v0137k1t1d denim fabric c:75% p:24% ly:1%trọng lượng trên 200g/m2, từ các sợi có màu khác nhau, hàng mới 100%, đg: . @",
         "vải dệt thoi bông  denim fabric"
        ],
        [
         "45",
         "synthetic filament woven fabric - dyed - other, code 000tfabbangkok, 65% polyester, 35% cotton, size 147 cm, weight 165g/sqm. new 100%",
         "synthetic filament woven fabric  dyed  other"
        ],
        [
         "46",
         "dyeed 100% recycled polyester woven fabric, dyed-70 g/m2-woven (l: 258 yds,w: 56 inches). 100% new",
         "dyeed"
        ],
        [
         "47",
         "woven fabric from synthetic filament yarn 90% nylon 10% spandex (elastane), dyed, cut width 137.16 cm (54 inches), width including edges 56 inches, 66g/m2. new 100%",
         "woven fabric from synthetic filament yarn"
        ],
        [
         "48",
         "vải dệt thoi từ sợi filament polyester dún, đã nhuộm polyester 100% khổ 148cm, 136g/m2 @",
         "vải dệt thoi sợi filament polyester dún"
        ],
        [
         "49",
         "woven fabric from unrubbed polyester filament yarn, dyed 100% polyester, size 148cm, 75g/m2",
         "woven fabric from unrubbed polyester filament yarn"
        ],
        [
         "50",
         "vải dệt thoi 52% cotton 43% polyester 5% polyurethane, khổ 72\" (trọng lượng 195g/m2), hàng mới 100% @",
         "vải dệt thoi"
        ],
        [
         "51",
         "vải vân điểm khổ 54 inch (vải dệt thoi 100% cotton đã nhuộm trọng lượng 80g/m2) dùng để làm giày @",
         "vải vân điểm khổ  inch"
        ]
       ],
       "shape": {
        "columns": 2,
        "rows": 44633
       }
      },
      "text/html": [
       "<div>\n",
       "<style scoped>\n",
       "    .dataframe tbody tr th:only-of-type {\n",
       "        vertical-align: middle;\n",
       "    }\n",
       "\n",
       "    .dataframe tbody tr th {\n",
       "        vertical-align: top;\n",
       "    }\n",
       "\n",
       "    .dataframe thead th {\n",
       "        text-align: right;\n",
       "    }\n",
       "</style>\n",
       "<table border=\"1\" class=\"dataframe\">\n",
       "  <thead>\n",
       "    <tr style=\"text-align: right;\">\n",
       "      <th></th>\n",
       "      <th>Product List</th>\n",
       "      <th>Product</th>\n",
       "    </tr>\n",
       "  </thead>\n",
       "  <tbody>\n",
       "    <tr>\n",
       "      <th>0</th>\n",
       "      <td>vải polyester pha viscorayon (vải 65% polyeste...</td>\n",
       "      <td>vải polyester pha viscorayon</td>\n",
       "    </tr>\n",
       "    <tr>\n",
       "      <th>1</th>\n",
       "      <td>synthetic filament woven fabric, 91%nylon 9%sp...</td>\n",
       "      <td>synthetic filament woven fabric</td>\n",
       "    </tr>\n",
       "    <tr>\n",
       "      <th>2</th>\n",
       "      <td>woven fabric from linen, 100% linen, woven fro...</td>\n",
       "      <td>woven fabric from linen</td>\n",
       "    </tr>\n",
       "    <tr>\n",
       "      <th>3</th>\n",
       "      <td>vải dệt thoi đã nhuộm (54% recycled post-consu...</td>\n",
       "      <td>vải dệt thoi nhuộm</td>\n",
       "    </tr>\n",
       "    <tr>\n",
       "      <th>4</th>\n",
       "      <td>woven fabric 75% nylon 25% poly size 58\", 149g...</td>\n",
       "      <td>woven fabric</td>\n",
       "    </tr>\n",
       "    <tr>\n",
       "      <th>...</th>\n",
       "      <td>...</td>\n",
       "      <td>...</td>\n",
       "    </tr>\n",
       "    <tr>\n",
       "      <th>49983</th>\n",
       "      <td>woven fabrics - woven fabrics - dyed, city: 54...</td>\n",
       "      <td>woven fabrics  woven fabrics  dyed</td>\n",
       "    </tr>\n",
       "    <tr>\n",
       "      <th>49984</th>\n",
       "      <td>sợi cotton 100%- 100% cotton (supima) raw whit...</td>\n",
       "      <td>sợi cotton</td>\n",
       "    </tr>\n",
       "    <tr>\n",
       "      <th>49985</th>\n",
       "      <td>sợi 100% cotton sa201020a-oe 10s/1 sợi đơn, là...</td>\n",
       "      <td>sợi</td>\n",
       "    </tr>\n",
       "    <tr>\n",
       "      <th>49986</th>\n",
       "      <td>woven fabric 220t/p75d*150d peack skin microfi...</td>\n",
       "      <td>woven fabric  peack skin microfiber</td>\n",
       "    </tr>\n",
       "    <tr>\n",
       "      <th>49987</th>\n",
       "      <td>vải chính 100% nylon 4l50b25r-na khổ 200 cm (n...</td>\n",
       "      <td>vải chính</td>\n",
       "    </tr>\n",
       "  </tbody>\n",
       "</table>\n",
       "<p>44633 rows × 2 columns</p>\n",
       "</div>"
      ],
      "text/plain": [
       "                                            Product List  \\\n",
       "0      vải polyester pha viscorayon (vải 65% polyeste...   \n",
       "1      synthetic filament woven fabric, 91%nylon 9%sp...   \n",
       "2      woven fabric from linen, 100% linen, woven fro...   \n",
       "3      vải dệt thoi đã nhuộm (54% recycled post-consu...   \n",
       "4      woven fabric 75% nylon 25% poly size 58\", 149g...   \n",
       "...                                                  ...   \n",
       "49983  woven fabrics - woven fabrics - dyed, city: 54...   \n",
       "49984  sợi cotton 100%- 100% cotton (supima) raw whit...   \n",
       "49985  sợi 100% cotton sa201020a-oe 10s/1 sợi đơn, là...   \n",
       "49986  woven fabric 220t/p75d*150d peack skin microfi...   \n",
       "49987  vải chính 100% nylon 4l50b25r-na khổ 200 cm (n...   \n",
       "\n",
       "                                   Product  \n",
       "0             vải polyester pha viscorayon  \n",
       "1          synthetic filament woven fabric  \n",
       "2                  woven fabric from linen  \n",
       "3                       vải dệt thoi nhuộm  \n",
       "4                             woven fabric  \n",
       "...                                    ...  \n",
       "49983   woven fabrics  woven fabrics  dyed  \n",
       "49984                           sợi cotton  \n",
       "49985                                  sợi  \n",
       "49986  woven fabric  peack skin microfiber  \n",
       "49987                            vải chính  \n",
       "\n",
       "[44633 rows x 2 columns]"
      ]
     },
     "execution_count": 297,
     "metadata": {},
     "output_type": "execute_result"
    }
   ],
   "source": [
    "def clean_product_names(df):\n",
    "    df_filtered = df_product[df_product['Product'].notna() & (df_product['Product'] != '')].copy()  \n",
    "\n",
    "    df_filtered.loc[:, 'Product'] = df_filtered['Product'].str.split('(', expand=True)[0]  \n",
    "    df_filtered.loc[:, 'Product'] = df_filtered['Product'].str.split(',', expand=True)[0] \n",
    "\n",
    "    df_filtered.loc[:, 'Product'] = df_filtered['Product'].str.replace(r'\\b\\w*\\d+\\w*\\b[-\"]?', '', regex=True)\n",
    "\n",
    "    df_filtered.loc[:, 'Product'] = df_filtered['Product'].str.replace(\n",
    "        r'[^a-zA-Z0-9\\sàáảãạăắằẳẵặâấầẩẫậêếềểễệóôốồổỗộơớờởỡợưứừửữựíìỉĩịúùủũụýỳỷỹỵđ]', '', regex=True\n",
    "    )\n",
    "    \n",
    "    df_filtered.loc[:, 'Product'] = df_filtered['Product'].str.replace(r'\\s\\w{1,2}\\b', '', regex=True)\n",
    "\n",
    "    df_filtered.loc[:, 'Product'] = df_filtered['Product'].str.strip()\n",
    "    \n",
    "    return df_filtered\n",
    "\n",
    "df_product_cleaned = clean_product_names(df_product)\n",
    "\n",
    "df_product_cleaned\n"
   ]
  },
  {
   "cell_type": "code",
   "execution_count": 298,
   "id": "2fd8f3b8",
   "metadata": {},
   "outputs": [
    {
     "data": {
      "application/vnd.microsoft.datawrangler.viewer.v0+json": {
       "columns": [
        {
         "name": "index",
         "rawType": "int64",
         "type": "integer"
        },
        {
         "name": "Product List",
         "rawType": "object",
         "type": "string"
        },
        {
         "name": "Product",
         "rawType": "object",
         "type": "string"
        }
       ],
       "conversionMethod": "pd.DataFrame",
       "ref": "d62e44ee-6b5c-414a-9f39-1a7924d4cbbe",
       "rows": [
        [
         "0",
         "vải polyester pha viscorayon (vải 65% polyester 35% viscorayon) dệt thoi dùng trong may mặc khổ 58-60\" ( định lượng: 1 mét = 0,4267 kg) hàng mới 100% @",
         "vải polyester pha viscorayon"
        ],
        [
         "1",
         "synthetic filament woven fabric, 91%nylon 9%spandex_90dx180d, 109x97, 175g/sqm, 53'', dyed, aquatic ice, for garment use, 100% new",
         "synthetic filament woven fabric"
        ],
        [
         "2",
         "woven fabric from linen, 100% linen, woven from yarns of different colors, no streaks, no twill, size 51/52\", weight 142.62g/m2",
         "woven fabric from linen"
        ],
        [
         "3",
         "vải dệt thoi đã nhuộm (54% recycled post-consumer polyester, 46% polyester twill weave 49\") 205g/m2. dùng trong may mặc. mới 100%. @",
         "vải dệt thoi nhuộm"
        ],
        [
         "4",
         "woven fabric 75% nylon 25% poly size 58\", 149g/yd, 100% new for garment production=4106yd",
         "woven fabric"
        ],
        [
         "5",
         "fabric 100% polyester 44'' (woven fabric, 100% polyester filament density)",
         "fabric"
        ],
        [
         "6",
         "vải 100% polyester (polyamide) (17856 yds -khổ 59\") @",
         "vải"
        ],
        [
         "7",
         "yarn 78% wool 22% nylon",
         "yarn"
        ],
        [
         "8",
         "vải các loại 96% nylon(nylon=polyamide) 4% elastane(lycra=spandex=elastane) (70025377) @",
         "vải các loại"
        ],
        [
         "9",
         "vải 20% cotton 75.5% polyester 4.5% spandex (đã tẩy trắng, đã nhuộm) khổ 55'' trọng lượng 118g/m2.( hàng mới 100%) @",
         "vải"
        ],
        [
         "10",
         "vải dệt thoi khác từ sợi bông-100% cottoncd30xcd30, 68x68, plain b/tape 30's-nguyên phụ liệu dùng trong sản xuất nón-57/58 @",
         "vải dệt thoi khác sợi bông"
        ],
        [
         "11",
         "woven fabric 59%poly 41%cotton, size 58\" (671yds). 100% new.",
         "woven fabric"
        ],
        [
         "12",
         "vải 100% nylon 56\" (fr1200ka) @",
         "vải"
        ],
        [
         "13",
         "main fabric 100%poly 58-60\"",
         "main fabric"
        ],
        [
         "14",
         "vải dệt thoi không dún, từ sợi filament 100% polyester, 170t, khổ 220cm, w535, định lượng 65g/m2, mới 100% @",
         "vải dệt thoi không dún"
        ],
        [
         "15",
         "sample woven fabric used in garment, material 100% polyester filament yarn, code: jkb23-002, nsx: suzhou shunging textile co.,ltd, 100% brand new",
         "sample woven fabric used garment"
        ],
        [
         "16",
         "fabric inner of kimono, 100% silk, size: 0.4m length (2-8m)",
         "fabric inner kimono"
        ],
        [
         "17",
         "vải dệt thoi khổ 95 cm cotton100% ty3659_3_un3999 @",
         "vải dệt thoi khổ  cotton"
        ],
        [
         "18",
         "vải có tỷ trọng 100% polyester (vải dệt thoi) / sh-488 khổ 60 inch. hàng mới 100% @",
         "vải trng"
        ],
        [
         "19",
         "sợi bông (100% cotton)( sợi bông loại 32/1 (32sjc), sợi đơn làm từ xơ chải kỹ độ mảnh 184.56 decitex, chi số mét 54.176, thành phần 100% cotton, đã nhuộm yc4623d) @",
         "sợi bông"
        ],
        [
         "20",
         "sợi đơn 100% cotton làm từ xơ chải kỹ (chưa đóng gói để bán lẻ), độ mảnh 196.83 decitex, chỉ số mét 50.7, chỉ số sợi 30/1 @",
         "sợi đơn"
        ],
        [
         "21",
         "woven fabric made of 100% polyester dyed, cut to support the pants; 100% new; kt: 0.02m2",
         "woven fabric made"
        ],
        [
         "22",
         "vải lót 100% polyester \"58/60\" dệt thoi. hàng mới 100% @",
         "vải lót"
        ],
        [
         "23",
         "100% new woven burlap fabric 140cm for upholstery (loki)(polyester 58, olefin 42% - 304g/m2)",
         ""
        ],
        [
         "24",
         "52\" 100% nylon woven fabric",
         ""
        ],
        [
         "25",
         "main fabric 62% polyester 38% reprocessed polyester. size 57/58\" (woven fabric from dyed, dyed polyester filament yarn, used for sewing garment processing products). 100% new product",
         "main fabric"
        ],
        [
         "26",
         "synthetic filament woven fabric less than 85% polyester mixed with recycled and pu less than 46%, dyed, fabric size 44/60\" weight 79,263g/m2",
         "synthetic filament woven fabric less than"
        ],
        [
         "27",
         "vải cotton: dạng dệt thoi, thành phần 100% cotton, đã nhuộm, có vân điểm, 218g/m2, khổ rộng 36\", 44\", 54\", nguyên phụ liệu dùng sản xuất giày xuất khẩu, hàng mới 100% @",
         "vải cotton dạng dệt thoi"
        ],
        [
         "28",
         "vải chính typ0527 polyester 100% woven fabric w.145cm @",
         "vải chính  polyester"
        ],
        [
         "29",
         "dyed woven fabric (lining fabric), no printed pattern size 58\"/textile-80% recycle polyester +20% spandex-dyed ,not printed-58\"/250g",
         "dyed woven fabric"
        ],
        [
         "30",
         "woven fabric from synthetic filament yarn composed of 93% polyester, 7% dyed cotton, cut to make left and right front straps, 100% new, size: 0.06m2",
         "woven fabric from synthetic filament yarn composed"
        ],
        [
         "31",
         "vải dệt thoi 97% cotton, 3% spandex khổ 57\" ( 1,510.1 mtr) @",
         "vải dệt thoi"
        ],
        [
         "32",
         "80%polyester 20%cotton fabric size 56/62\" (k.147cm, 88gsm, woven fabric, used for garments, 100% new)",
         ""
        ],
        [
         "33",
         "synthetic staple fiber woven fabric yrd/11k rec poly pag 2 dty (100%) dj-570-8r(100%) 44\"",
         "synthetic staple fiber woven fabric yrd rec poly pag  dty"
        ],
        [
         "34",
         "synthetic filament yarn 100% polyester dty sd recycled 50d/24f(55.5dtex/24f) sim s twist aay grade, white yarn, in rolls, for fabric production, brand:no. 100% new",
         "synthetic filament yarn"
        ],
        [
         "35",
         "vải dệt thoi 57%cotton 38%brrr nylon 5 %spandex khổ 52\" 107g/m2, đã nhuộm, mới 100% @",
         "vải dệt thoi"
        ],
        [
         "36",
         "woven fabric made of filament yarn 100 (100% new, composed of 100% unwrinkled, unbleached polyester filament yarn, weight 48.42g/m2, size 1.58m, used to produce printed screen frames)",
         "woven fabric made filament yarn"
        ],
        [
         "37",
         "sợi dún 20/30/24f thành phần gồm 79% multifilament nylon 21%sợi đàn hồi polyeurethane spandex chưa đóng gói để bán lẻ,mới 100% @",
         "sợi dún  thành phần gồm"
        ],
        [
         "38",
         "vải dệt thoi có tỷ trọng sợi filament bằng nylon từ 85% trở lên, đã nhuộm. vải dệt thoi 65% recycle nylon 30% nylon, 5% spandex. khổ 56\". 5,521 m, hàng mới 100% @",
         "vải dệt thoi trng sợi filament bằng nylon"
        ],
        [
         "39",
         "main fabric 49%viscose 47%polyester 4%elastane, size: 50/52\"_goods shipped domestically from account: 10283398350/e31",
         "main fabric"
        ],
        [
         "40",
         "tc yarn: yarn from synthetic staple fiber, ne 32/1 (cotton 30%/polyester 70%). yarn from polyester staple fiber mixed with cotton.",
         "tc yarn yarn from synthetic staple fiber"
        ],
        [
         "41",
         "woven fabric (fabric-3) from yarns of different colors, 100% polyester twill, dyed, size 145cm, weight 182g/m2, unbranded, with label. used to cover sofas. new 100%",
         "woven fabric"
        ],
        [
         "42",
         "vải vân điểm khổ 56 inch (vải dệt thoi 100% cotton đã nhuộm trọng lượng 283g/m2) dùng để làm giày @",
         "vải vân điểm khổ  inch"
        ],
        [
         "43",
         "vải cotton 100% - khổ 1.02m @",
         "vải cotton"
        ],
        [
         "44",
         "vải dệt thoi từ bông v0137k1t1d denim fabric c:75% p:24% ly:1%trọng lượng trên 200g/m2, từ các sợi có màu khác nhau, hàng mới 100%, đg: . @",
         "vải dệt thoi bông  denim fabric"
        ],
        [
         "45",
         "synthetic filament woven fabric - dyed - other, code 000tfabbangkok, 65% polyester, 35% cotton, size 147 cm, weight 165g/sqm. new 100%",
         "synthetic filament woven fabric  dyed  other"
        ],
        [
         "46",
         "dyeed 100% recycled polyester woven fabric, dyed-70 g/m2-woven (l: 258 yds,w: 56 inches). 100% new",
         "dyeed"
        ],
        [
         "47",
         "woven fabric from synthetic filament yarn 90% nylon 10% spandex (elastane), dyed, cut width 137.16 cm (54 inches), width including edges 56 inches, 66g/m2. new 100%",
         "woven fabric from synthetic filament yarn"
        ],
        [
         "48",
         "vải dệt thoi từ sợi filament polyester dún, đã nhuộm polyester 100% khổ 148cm, 136g/m2 @",
         "vải dệt thoi sợi filament polyester dún"
        ],
        [
         "49",
         "woven fabric from unrubbed polyester filament yarn, dyed 100% polyester, size 148cm, 75g/m2",
         "woven fabric from unrubbed polyester filament yarn"
        ]
       ],
       "shape": {
        "columns": 2,
        "rows": 49988
       }
      },
      "text/html": [
       "<div>\n",
       "<style scoped>\n",
       "    .dataframe tbody tr th:only-of-type {\n",
       "        vertical-align: middle;\n",
       "    }\n",
       "\n",
       "    .dataframe tbody tr th {\n",
       "        vertical-align: top;\n",
       "    }\n",
       "\n",
       "    .dataframe thead th {\n",
       "        text-align: right;\n",
       "    }\n",
       "</style>\n",
       "<table border=\"1\" class=\"dataframe\">\n",
       "  <thead>\n",
       "    <tr style=\"text-align: right;\">\n",
       "      <th></th>\n",
       "      <th>Product List</th>\n",
       "      <th>Product</th>\n",
       "    </tr>\n",
       "  </thead>\n",
       "  <tbody>\n",
       "    <tr>\n",
       "      <th>0</th>\n",
       "      <td>vải polyester pha viscorayon (vải 65% polyeste...</td>\n",
       "      <td>vải polyester pha viscorayon</td>\n",
       "    </tr>\n",
       "    <tr>\n",
       "      <th>1</th>\n",
       "      <td>synthetic filament woven fabric, 91%nylon 9%sp...</td>\n",
       "      <td>synthetic filament woven fabric</td>\n",
       "    </tr>\n",
       "    <tr>\n",
       "      <th>2</th>\n",
       "      <td>woven fabric from linen, 100% linen, woven fro...</td>\n",
       "      <td>woven fabric from linen</td>\n",
       "    </tr>\n",
       "    <tr>\n",
       "      <th>3</th>\n",
       "      <td>vải dệt thoi đã nhuộm (54% recycled post-consu...</td>\n",
       "      <td>vải dệt thoi nhuộm</td>\n",
       "    </tr>\n",
       "    <tr>\n",
       "      <th>4</th>\n",
       "      <td>woven fabric 75% nylon 25% poly size 58\", 149g...</td>\n",
       "      <td>woven fabric</td>\n",
       "    </tr>\n",
       "    <tr>\n",
       "      <th>...</th>\n",
       "      <td>...</td>\n",
       "      <td>...</td>\n",
       "    </tr>\n",
       "    <tr>\n",
       "      <th>49983</th>\n",
       "      <td>woven fabrics - woven fabrics - dyed, city: 54...</td>\n",
       "      <td>woven fabrics  woven fabrics  dyed</td>\n",
       "    </tr>\n",
       "    <tr>\n",
       "      <th>49984</th>\n",
       "      <td>sợi cotton 100%- 100% cotton (supima) raw whit...</td>\n",
       "      <td>sợi cotton</td>\n",
       "    </tr>\n",
       "    <tr>\n",
       "      <th>49985</th>\n",
       "      <td>sợi 100% cotton sa201020a-oe 10s/1 sợi đơn, là...</td>\n",
       "      <td>sợi</td>\n",
       "    </tr>\n",
       "    <tr>\n",
       "      <th>49986</th>\n",
       "      <td>woven fabric 220t/p75d*150d peack skin microfi...</td>\n",
       "      <td>woven fabric  peack skin microfiber</td>\n",
       "    </tr>\n",
       "    <tr>\n",
       "      <th>49987</th>\n",
       "      <td>vải chính 100% nylon 4l50b25r-na khổ 200 cm (n...</td>\n",
       "      <td>vải chính</td>\n",
       "    </tr>\n",
       "  </tbody>\n",
       "</table>\n",
       "<p>49988 rows × 2 columns</p>\n",
       "</div>"
      ],
      "text/plain": [
       "                                            Product List  \\\n",
       "0      vải polyester pha viscorayon (vải 65% polyeste...   \n",
       "1      synthetic filament woven fabric, 91%nylon 9%sp...   \n",
       "2      woven fabric from linen, 100% linen, woven fro...   \n",
       "3      vải dệt thoi đã nhuộm (54% recycled post-consu...   \n",
       "4      woven fabric 75% nylon 25% poly size 58\", 149g...   \n",
       "...                                                  ...   \n",
       "49983  woven fabrics - woven fabrics - dyed, city: 54...   \n",
       "49984  sợi cotton 100%- 100% cotton (supima) raw whit...   \n",
       "49985  sợi 100% cotton sa201020a-oe 10s/1 sợi đơn, là...   \n",
       "49986  woven fabric 220t/p75d*150d peack skin microfi...   \n",
       "49987  vải chính 100% nylon 4l50b25r-na khổ 200 cm (n...   \n",
       "\n",
       "                                   Product  \n",
       "0             vải polyester pha viscorayon  \n",
       "1          synthetic filament woven fabric  \n",
       "2                  woven fabric from linen  \n",
       "3                       vải dệt thoi nhuộm  \n",
       "4                             woven fabric  \n",
       "...                                    ...  \n",
       "49983   woven fabrics  woven fabrics  dyed  \n",
       "49984                           sợi cotton  \n",
       "49985                                  sợi  \n",
       "49986  woven fabric  peack skin microfiber  \n",
       "49987                            vải chính  \n",
       "\n",
       "[49988 rows x 2 columns]"
      ]
     },
     "execution_count": 298,
     "metadata": {},
     "output_type": "execute_result"
    }
   ],
   "source": [
    "df_product.update(df_product_cleaned)\n",
    "df_product"
   ]
  },
  {
   "cell_type": "code",
   "execution_count": 299,
   "id": "121ad058",
   "metadata": {},
   "outputs": [
    {
     "data": {
      "application/vnd.microsoft.datawrangler.viewer.v0+json": {
       "columns": [
        {
         "name": "index",
         "rawType": "int64",
         "type": "integer"
        },
        {
         "name": "Word",
         "rawType": "object",
         "type": "string"
        },
        {
         "name": "Count",
         "rawType": "int64",
         "type": "integer"
        }
       ],
       "conversionMethod": "pd.DataFrame",
       "ref": "86651c2c-f378-4c40-8d84-14fd71701dbe",
       "rows": [
        [
         "0",
         "vải",
         "19866"
        ],
        [
         "1",
         "fabric",
         "13964"
        ],
        [
         "2",
         "dệt",
         "11214"
        ],
        [
         "3",
         "thoi",
         "10886"
        ],
        [
         "4",
         "woven",
         "9704"
        ],
        [
         "5",
         "sợi",
         "8622"
        ],
        [
         "6",
         "filament",
         "6567"
        ],
        [
         "7",
         "polyester",
         "3393"
        ],
        [
         "8",
         "from",
         "3094"
        ],
        [
         "9",
         "yarn",
         "2926"
        ],
        [
         "10",
         "synthetic",
         "2643"
        ],
        [
         "11",
         "tổng",
         "2417"
        ],
        [
         "12",
         "hợp",
         "2412"
        ],
        [
         "13",
         "main",
         "2249"
        ],
        [
         "14",
         "chính",
         "1965"
        ],
        [
         "15",
         "lót",
         "1200"
        ],
        [
         "16",
         "bông",
         "1183"
        ],
        [
         "17",
         "nhuộm",
         "1147"
        ],
        [
         "18",
         "staple",
         "1103"
        ],
        [
         "19",
         "đơn",
         "945"
        ],
        [
         "20",
         "làm",
         "943"
        ],
        [
         "21",
         "bằng",
         "911"
        ],
        [
         "22",
         "dyed",
         "892"
        ],
        [
         "23",
         "dún",
         "879"
        ],
        [
         "24",
         "chải",
         "798"
        ],
        [
         "25",
         "fiber",
         "762"
        ],
        [
         "26",
         "with",
         "717"
        ],
        [
         "27",
         "chỉ",
         "712"
        ],
        [
         "28",
         "nylon",
         "695"
        ],
        [
         "29",
         "trng",
         "693"
        ],
        [
         "30",
         "made",
         "686"
        ],
        [
         "31",
         "lining",
         "665"
        ],
        [
         "32",
         "sewing",
         "656"
        ],
        [
         "33",
         "cotton",
         "602"
        ],
        [
         "34",
         "fibers",
         "601"
        ],
        [
         "35",
         "các",
         "566"
        ],
        [
         "36",
         "thread",
         "562"
        ],
        [
         "37",
         "fabrics",
         "535"
        ],
        [
         "38",
         "thành",
         "510"
        ],
        [
         "39",
         "wool",
         "410"
        ],
        [
         "40",
         "phần",
         "410"
        ],
        [
         "41",
         "may",
         "372"
        ],
        [
         "42",
         "không",
         "364"
        ],
        [
         "43",
         "khổ",
         "341"
        ],
        [
         "44",
         "kimono",
         "315"
        ],
        [
         "45",
         "nilon",
         "308"
        ],
        [
         "46",
         "dyeed",
         "302"
        ],
        [
         "47",
         "loại",
         "297"
        ],
        [
         "48",
         "khác",
         "296"
        ],
        [
         "49",
         "màu",
         "295"
        ]
       ],
       "shape": {
        "columns": 2,
        "rows": 2300
       }
      },
      "text/html": [
       "<div>\n",
       "<style scoped>\n",
       "    .dataframe tbody tr th:only-of-type {\n",
       "        vertical-align: middle;\n",
       "    }\n",
       "\n",
       "    .dataframe tbody tr th {\n",
       "        vertical-align: top;\n",
       "    }\n",
       "\n",
       "    .dataframe thead th {\n",
       "        text-align: right;\n",
       "    }\n",
       "</style>\n",
       "<table border=\"1\" class=\"dataframe\">\n",
       "  <thead>\n",
       "    <tr style=\"text-align: right;\">\n",
       "      <th></th>\n",
       "      <th>Word</th>\n",
       "      <th>Count</th>\n",
       "    </tr>\n",
       "  </thead>\n",
       "  <tbody>\n",
       "    <tr>\n",
       "      <th>0</th>\n",
       "      <td>vải</td>\n",
       "      <td>19866</td>\n",
       "    </tr>\n",
       "    <tr>\n",
       "      <th>1</th>\n",
       "      <td>fabric</td>\n",
       "      <td>13964</td>\n",
       "    </tr>\n",
       "    <tr>\n",
       "      <th>2</th>\n",
       "      <td>dệt</td>\n",
       "      <td>11214</td>\n",
       "    </tr>\n",
       "    <tr>\n",
       "      <th>3</th>\n",
       "      <td>thoi</td>\n",
       "      <td>10886</td>\n",
       "    </tr>\n",
       "    <tr>\n",
       "      <th>4</th>\n",
       "      <td>woven</td>\n",
       "      <td>9704</td>\n",
       "    </tr>\n",
       "    <tr>\n",
       "      <th>...</th>\n",
       "      <td>...</td>\n",
       "      <td>...</td>\n",
       "    </tr>\n",
       "    <tr>\n",
       "      <th>2295</th>\n",
       "      <td>meadow</td>\n",
       "      <td>1</td>\n",
       "    </tr>\n",
       "    <tr>\n",
       "      <th>2296</th>\n",
       "      <td>belmore</td>\n",
       "      <td>1</td>\n",
       "    </tr>\n",
       "    <tr>\n",
       "      <th>2297</th>\n",
       "      <td>style</td>\n",
       "      <td>1</td>\n",
       "    </tr>\n",
       "    <tr>\n",
       "      <th>2298</th>\n",
       "      <td>triacetato</td>\n",
       "      <td>1</td>\n",
       "    </tr>\n",
       "    <tr>\n",
       "      <th>2299</th>\n",
       "      <td>spangled</td>\n",
       "      <td>1</td>\n",
       "    </tr>\n",
       "  </tbody>\n",
       "</table>\n",
       "<p>2300 rows × 2 columns</p>\n",
       "</div>"
      ],
      "text/plain": [
       "            Word  Count\n",
       "0            vải  19866\n",
       "1         fabric  13964\n",
       "2            dệt  11214\n",
       "3           thoi  10886\n",
       "4          woven   9704\n",
       "...          ...    ...\n",
       "2295      meadow      1\n",
       "2296     belmore      1\n",
       "2297       style      1\n",
       "2298  triacetato      1\n",
       "2299    spangled      1\n",
       "\n",
       "[2300 rows x 2 columns]"
      ]
     },
     "execution_count": 299,
     "metadata": {},
     "output_type": "execute_result"
    }
   ],
   "source": [
    "def extract_and_count_words(df):\n",
    "    all_words = ' '.join(df_product_cleaned['Product'].dropna()).split()\n",
    "\n",
    "    word_counts = Counter(all_words)\n",
    "\n",
    "    # Tạo DataFrame từ kết quả\n",
    "    word_count_df = pd.DataFrame(word_counts.items(), columns=['Word', 'Count'])\n",
    "\n",
    "    # Sắp xếp bảng theo số lần xuất hiện (giảm dần)\n",
    "    word_count_df = word_count_df.sort_values(by='Count', ascending=False).reset_index(drop=True)\n",
    "    \n",
    "    return word_count_df\n",
    "\n",
    "# Áp dụng hàm cho DataFrame\n",
    "df_word_count = extract_and_count_words(df_product_cleaned)\n",
    "df_word_count"
   ]
  },
  {
   "cell_type": "code",
   "execution_count": 300,
   "id": "fb150105",
   "metadata": {},
   "outputs": [
    {
     "data": {
      "application/vnd.microsoft.datawrangler.viewer.v0+json": {
       "columns": [
        {
         "name": "index",
         "rawType": "int64",
         "type": "integer"
        },
        {
         "name": "Word",
         "rawType": "object",
         "type": "string"
        },
        {
         "name": "Count",
         "rawType": "int64",
         "type": "integer"
        }
       ],
       "conversionMethod": "pd.DataFrame",
       "ref": "9fbb563e-c5c5-4736-9dc4-0c6ffc7d91f7",
       "rows": [
        [
         "0",
         "vải",
         "19866"
        ],
        [
         "1",
         "fabric",
         "13964"
        ],
        [
         "2",
         "dệt",
         "11214"
        ],
        [
         "3",
         "thoi",
         "10886"
        ],
        [
         "4",
         "woven",
         "9704"
        ],
        [
         "5",
         "sợi",
         "8622"
        ],
        [
         "6",
         "filament",
         "6567"
        ],
        [
         "7",
         "polyester",
         "3393"
        ],
        [
         "8",
         "from",
         "3094"
        ],
        [
         "9",
         "yarn",
         "2926"
        ],
        [
         "10",
         "synthetic",
         "2643"
        ],
        [
         "11",
         "tổng",
         "2417"
        ],
        [
         "12",
         "hợp",
         "2412"
        ],
        [
         "13",
         "main",
         "2249"
        ],
        [
         "14",
         "chính",
         "1965"
        ],
        [
         "15",
         "lót",
         "1200"
        ],
        [
         "16",
         "bông",
         "1183"
        ],
        [
         "17",
         "nhuộm",
         "1147"
        ],
        [
         "18",
         "staple",
         "1103"
        ],
        [
         "19",
         "đơn",
         "945"
        ],
        [
         "20",
         "làm",
         "943"
        ],
        [
         "21",
         "bằng",
         "911"
        ],
        [
         "22",
         "dyed",
         "892"
        ],
        [
         "23",
         "dún",
         "879"
        ],
        [
         "24",
         "chải",
         "798"
        ],
        [
         "25",
         "fiber",
         "762"
        ],
        [
         "26",
         "with",
         "717"
        ],
        [
         "27",
         "chỉ",
         "712"
        ],
        [
         "28",
         "nylon",
         "695"
        ],
        [
         "29",
         "trng",
         "693"
        ],
        [
         "30",
         "made",
         "686"
        ],
        [
         "31",
         "lining",
         "665"
        ],
        [
         "32",
         "sewing",
         "656"
        ],
        [
         "33",
         "cotton",
         "602"
        ],
        [
         "34",
         "fibers",
         "601"
        ],
        [
         "35",
         "các",
         "566"
        ],
        [
         "36",
         "thread",
         "562"
        ],
        [
         "37",
         "fabrics",
         "535"
        ],
        [
         "38",
         "thành",
         "510"
        ],
        [
         "39",
         "wool",
         "410"
        ],
        [
         "40",
         "phần",
         "410"
        ],
        [
         "41",
         "may",
         "372"
        ],
        [
         "42",
         "không",
         "364"
        ],
        [
         "43",
         "khổ",
         "341"
        ],
        [
         "44",
         "kimono",
         "315"
        ],
        [
         "45",
         "nilon",
         "308"
        ],
        [
         "46",
         "dyeed",
         "302"
        ],
        [
         "47",
         "loại",
         "297"
        ],
        [
         "48",
         "khác",
         "296"
        ],
        [
         "49",
         "màu",
         "295"
        ]
       ],
       "shape": {
        "columns": 2,
        "rows": 367
       }
      },
      "text/html": [
       "<div>\n",
       "<style scoped>\n",
       "    .dataframe tbody tr th:only-of-type {\n",
       "        vertical-align: middle;\n",
       "    }\n",
       "\n",
       "    .dataframe tbody tr th {\n",
       "        vertical-align: top;\n",
       "    }\n",
       "\n",
       "    .dataframe thead th {\n",
       "        text-align: right;\n",
       "    }\n",
       "</style>\n",
       "<table border=\"1\" class=\"dataframe\">\n",
       "  <thead>\n",
       "    <tr style=\"text-align: right;\">\n",
       "      <th></th>\n",
       "      <th>Word</th>\n",
       "      <th>Count</th>\n",
       "    </tr>\n",
       "  </thead>\n",
       "  <tbody>\n",
       "    <tr>\n",
       "      <th>0</th>\n",
       "      <td>vải</td>\n",
       "      <td>19866</td>\n",
       "    </tr>\n",
       "    <tr>\n",
       "      <th>1</th>\n",
       "      <td>fabric</td>\n",
       "      <td>13964</td>\n",
       "    </tr>\n",
       "    <tr>\n",
       "      <th>2</th>\n",
       "      <td>dệt</td>\n",
       "      <td>11214</td>\n",
       "    </tr>\n",
       "    <tr>\n",
       "      <th>3</th>\n",
       "      <td>thoi</td>\n",
       "      <td>10886</td>\n",
       "    </tr>\n",
       "    <tr>\n",
       "      <th>4</th>\n",
       "      <td>woven</td>\n",
       "      <td>9704</td>\n",
       "    </tr>\n",
       "    <tr>\n",
       "      <th>...</th>\n",
       "      <td>...</td>\n",
       "      <td>...</td>\n",
       "    </tr>\n",
       "    <tr>\n",
       "      <th>362</th>\n",
       "      <td>chủ</td>\n",
       "      <td>10</td>\n",
       "    </tr>\n",
       "    <tr>\n",
       "      <th>363</th>\n",
       "      <td>filamen</td>\n",
       "      <td>10</td>\n",
       "    </tr>\n",
       "    <tr>\n",
       "      <th>364</th>\n",
       "      <td>weave</td>\n",
       "      <td>10</td>\n",
       "    </tr>\n",
       "    <tr>\n",
       "      <th>365</th>\n",
       "      <td>flexible</td>\n",
       "      <td>10</td>\n",
       "    </tr>\n",
       "    <tr>\n",
       "      <th>366</th>\n",
       "      <td>width</td>\n",
       "      <td>10</td>\n",
       "    </tr>\n",
       "  </tbody>\n",
       "</table>\n",
       "<p>367 rows × 2 columns</p>\n",
       "</div>"
      ],
      "text/plain": [
       "         Word  Count\n",
       "0         vải  19866\n",
       "1      fabric  13964\n",
       "2         dệt  11214\n",
       "3        thoi  10886\n",
       "4       woven   9704\n",
       "..        ...    ...\n",
       "362       chủ     10\n",
       "363   filamen     10\n",
       "364     weave     10\n",
       "365  flexible     10\n",
       "366     width     10\n",
       "\n",
       "[367 rows x 2 columns]"
      ]
     },
     "execution_count": 300,
     "metadata": {},
     "output_type": "execute_result"
    }
   ],
   "source": [
    "df_word_count_filtered = df_word_count[df_word_count['Count'] >= 10]\n",
    "df_word_count_filtered"
   ]
  },
  {
   "cell_type": "code",
   "execution_count": 301,
   "id": "4968715c",
   "metadata": {},
   "outputs": [
    {
     "name": "stderr",
     "output_type": "stream",
     "text": [
      "C:\\Users\\Personal\\AppData\\Local\\Temp\\ipykernel_2528\\3752473187.py:11: SettingWithCopyWarning: \n",
      "A value is trying to be set on a copy of a slice from a DataFrame.\n",
      "Try using .loc[row_indexer,col_indexer] = value instead\n",
      "\n",
      "See the caveats in the documentation: https://pandas.pydata.org/pandas-docs/stable/user_guide/indexing.html#returning-a-view-versus-a-copy\n",
      "  df_product['Product List'] =df_product['Product List'].apply(filter_valid_words)\n"
     ]
    }
   ],
   "source": [
    "valid_words = set(df_word_count_filtered['Word'].str.lower().str.strip())\n",
    "\n",
    "def filter_valid_words(product):\n",
    "    # Chuyển về chữ thường, tách từ bằng regex: tách theo chữ, số (dính hay không cũng tách được)\n",
    "    words = re.findall(r'\\w+', product.lower())\n",
    "    # Giữ lại từ hợp lệ\n",
    "    filtered = [w for w in words if w in valid_words]\n",
    "    return ' '.join(filtered)\n",
    "\n",
    "# 3. Áp dụng lên cột Product\n",
    "df_product['Product List'] =df_product['Product List'].apply(filter_valid_words)"
   ]
  },
  {
   "cell_type": "code",
   "execution_count": 302,
   "id": "33fdd596",
   "metadata": {},
   "outputs": [
    {
     "data": {
      "application/vnd.microsoft.datawrangler.viewer.v0+json": {
       "columns": [
        {
         "name": "index",
         "rawType": "int64",
         "type": "integer"
        },
        {
         "name": "Product List",
         "rawType": "object",
         "type": "string"
        },
        {
         "name": "Product",
         "rawType": "object",
         "type": "string"
        },
        {
         "name": "Product New",
         "rawType": "object",
         "type": "string"
        }
       ],
       "conversionMethod": "pd.DataFrame",
       "ref": "e74930e9-9d45-4277-ae74-81dc6bb8e28f",
       "rows": [
        [
         "0",
         "vải polyester pha vải polyester dệt thoi dùng trong may khổ lượng mới",
         "vải polyester pha viscorayon",
         "vải polyester pha vải polyester dệt thoi dùng trong may khổ lượng mới"
        ],
        [
         "1",
         "synthetic filament woven fabric nylon dyed for garment new",
         "synthetic filament woven fabric",
         "synthetic filament woven fabric nylon dyed for garment new"
        ],
        [
         "2",
         "woven fabric from linen linen woven from yarns different colors twill size weight",
         "woven fabric from linen",
         "woven fabric from linen linen woven from yarns different colors twill size weight"
        ],
        [
         "3",
         "vải dệt thoi nhuộm recycled polyester polyester twill weave dùng trong may mới",
         "vải dệt thoi nhuộm",
         "vải dệt thoi nhuộm recycled polyester polyester twill weave dùng trong may mới"
        ],
        [
         "4",
         "woven fabric nylon poly size new for garment production",
         "woven fabric",
         "woven fabric nylon poly size new for garment production"
        ],
        [
         "5",
         "fabric polyester woven fabric polyester filament density",
         "fabric",
         "fabric polyester woven fabric polyester filament density"
        ],
        [
         "6",
         "vải polyester yds khổ",
         "vải",
         "vải polyester yds khổ"
        ],
        [
         "7",
         "yarn wool nylon",
         "yarn",
         "yarn wool nylon"
        ],
        [
         "8",
         "vải các loại nylon nylon lycra spandex",
         "vải các loại",
         "vải các loại nylon nylon lycra spandex"
        ],
        [
         "9",
         "vải cotton polyester spandex tẩy trắng nhuộm khổ lượng mới",
         "vải",
         "vải cotton polyester spandex tẩy trắng nhuộm khổ lượng mới"
        ],
        [
         "10",
         "vải dệt thoi khác sợi bông plain nguyên phụ liệu dùng trong sản xuất",
         "vải dệt thoi khác sợi bông",
         "vải dệt thoi khác sợi bông plain nguyên phụ liệu dùng trong sản xuất"
        ],
        [
         "11",
         "woven fabric poly cotton size new",
         "woven fabric",
         "woven fabric poly cotton size new"
        ],
        [
         "12",
         "vải nylon",
         "vải",
         "vải nylon"
        ],
        [
         "13",
         "main fabric poly",
         "main fabric",
         "main fabric poly"
        ],
        [
         "14",
         "vải dệt thoi không dún sợi filament polyester khổ lượng mới",
         "vải dệt thoi không dún",
         "vải dệt thoi không dún sợi filament polyester khổ lượng mới"
        ],
        [
         "15",
         "sample woven fabric used garment material polyester filament yarn code textile new",
         "sample woven fabric used garment",
         "sample woven fabric used garment material polyester filament yarn code textile new"
        ],
        [
         "16",
         "fabric inner kimono silk size",
         "fabric inner kimono",
         "fabric inner kimono silk size"
        ],
        [
         "17",
         "vải dệt thoi khổ",
         "vải dệt thoi khổ  cotton",
         "vải dệt thoi khổ"
        ],
        [
         "18",
         "vải polyester vải dệt thoi khổ inch mới",
         "vải trng",
         "vải polyester vải dệt thoi khổ inch mới"
        ],
        [
         "19",
         "sợi bông cotton sợi bông loại sợi đơn làm chải decitex thành phần cotton nhuộm",
         "sợi bông",
         "sợi bông cotton sợi bông loại sợi đơn làm chải decitex thành phần cotton nhuộm"
        ],
        [
         "20",
         "sợi đơn cotton làm chải chưa đóng gói bán decitex chỉ chỉ sợi",
         "sợi đơn",
         "sợi đơn cotton làm chải chưa đóng gói bán decitex chỉ chỉ sợi"
        ],
        [
         "21",
         "woven fabric made polyester dyed cut the new",
         "woven fabric made",
         "woven fabric made polyester dyed cut the new"
        ],
        [
         "22",
         "vải lót polyester dệt thoi mới",
         "vải lót",
         "vải lót polyester dệt thoi mới"
        ],
        [
         "23",
         "new woven fabric for upholstery polyester",
         "",
         "new woven fabric for upholstery polyester"
        ],
        [
         "24",
         "nylon woven fabric",
         "",
         "nylon woven fabric"
        ],
        [
         "25",
         "main fabric polyester polyester size woven fabric from dyed dyed polyester filament yarn used for sewing garment new",
         "main fabric",
         "main fabric polyester polyester size woven fabric from dyed dyed polyester filament yarn used for sewing garment new"
        ],
        [
         "26",
         "synthetic filament woven fabric less than polyester mixed with recycled and less than dyed fabric size weight",
         "synthetic filament woven fabric less than",
         "synthetic filament woven fabric less than polyester mixed with recycled and less than dyed fabric size weight"
        ],
        [
         "27",
         "vải cotton dạng dệt thoi thành phần cotton nhuộm vân điểm khổ nguyên phụ liệu dùng sản xuất giày xuất mới",
         "vải cotton dạng dệt thoi",
         "vải cotton dạng dệt thoi thành phần cotton nhuộm vân điểm khổ nguyên phụ liệu dùng sản xuất giày xuất mới"
        ],
        [
         "28",
         "vải chính polyester woven fabric",
         "vải chính  polyester",
         "vải chính polyester woven fabric"
        ],
        [
         "29",
         "dyed woven fabric lining fabric printed pattern size textile recycle polyester spandex dyed not printed",
         "dyed woven fabric",
         "dyed woven fabric lining fabric printed pattern size textile recycle polyester spandex dyed not printed"
        ],
        [
         "30",
         "woven fabric from synthetic filament yarn composed polyester dyed cotton cut make and new size",
         "woven fabric from synthetic filament yarn composed",
         "woven fabric from synthetic filament yarn composed polyester dyed cotton cut make and new size"
        ],
        [
         "31",
         "vải dệt thoi cotton spandex khổ",
         "vải dệt thoi",
         "vải dệt thoi cotton spandex khổ"
        ],
        [
         "32",
         "polyester cotton fabric size k woven fabric used for new",
         "",
         "polyester cotton fabric size k woven fabric used for new"
        ],
        [
         "33",
         "synthetic staple fiber woven fabric yrd rec poly pag dty",
         "synthetic staple fiber woven fabric yrd rec poly pag  dty",
         "synthetic staple fiber woven fabric yrd rec poly pag dty"
        ],
        [
         "34",
         "synthetic filament yarn polyester dty recycled white yarn rolls for fabric production new",
         "synthetic filament yarn",
         "synthetic filament yarn polyester dty recycled white yarn rolls for fabric production new"
        ],
        [
         "35",
         "vải dệt thoi cotton nylon spandex khổ nhuộm mới",
         "vải dệt thoi",
         "vải dệt thoi cotton nylon spandex khổ nhuộm mới"
        ],
        [
         "36",
         "woven fabric made filament yarn new composed unwrinkled unbleached polyester filament yarn weight size used printed",
         "woven fabric made filament yarn",
         "woven fabric made filament yarn new composed unwrinkled unbleached polyester filament yarn weight size used printed"
        ],
        [
         "37",
         "sợi dún thành phần gồm multifilament nylon sợi spandex chưa đóng gói bán mới",
         "sợi dún  thành phần gồm",
         "sợi dún thành phần gồm multifilament nylon sợi spandex chưa đóng gói bán mới"
        ],
        [
         "38",
         "vải dệt thoi sợi filament bằng nylon nhuộm vải dệt thoi recycle nylon nylon spandex khổ mới",
         "vải dệt thoi trng sợi filament bằng nylon",
         "vải dệt thoi sợi filament bằng nylon nhuộm vải dệt thoi recycle nylon nylon spandex khổ mới"
        ],
        [
         "39",
         "main fabric viscose polyester size from",
         "main fabric",
         "main fabric viscose polyester size from"
        ],
        [
         "40",
         "tc yarn yarn from synthetic staple fiber cotton polyester yarn from polyester staple fiber mixed with cotton",
         "tc yarn yarn from synthetic staple fiber",
         "tc yarn yarn from synthetic staple fiber cotton polyester yarn from polyester staple fiber mixed with cotton"
        ],
        [
         "41",
         "woven fabric fabric from yarns different colors polyester twill dyed size weight with used cover new",
         "woven fabric",
         "woven fabric fabric from yarns different colors polyester twill dyed size weight with used cover new"
        ],
        [
         "42",
         "vải vân điểm khổ inch vải dệt thoi cotton nhuộm lượng dùng làm giày",
         "vải vân điểm khổ  inch",
         "vải vân điểm khổ inch vải dệt thoi cotton nhuộm lượng dùng làm giày"
        ],
        [
         "43",
         "vải cotton khổ",
         "vải cotton",
         "vải cotton khổ"
        ],
        [
         "44",
         "vải dệt thoi bông denim fabric lượng trên các sợi màu khác nhau mới",
         "vải dệt thoi bông  denim fabric",
         "vải dệt thoi bông denim fabric lượng trên các sợi màu khác nhau mới"
        ],
        [
         "45",
         "synthetic filament woven fabric dyed other code polyester cotton size weight new",
         "synthetic filament woven fabric  dyed  other",
         "synthetic filament woven fabric dyed other code polyester cotton size weight new"
        ],
        [
         "46",
         "dyeed recycled polyester woven fabric dyed woven yds new",
         "dyeed",
         "dyeed recycled polyester woven fabric dyed woven yds new"
        ],
        [
         "47",
         "woven fabric from synthetic filament yarn nylon spandex dyed cut width width new",
         "woven fabric from synthetic filament yarn",
         "woven fabric from synthetic filament yarn nylon spandex dyed cut width width new"
        ],
        [
         "48",
         "vải dệt thoi sợi filament polyester dún nhuộm polyester khổ",
         "vải dệt thoi sợi filament polyester dún",
         "vải dệt thoi sợi filament polyester dún nhuộm polyester khổ"
        ],
        [
         "49",
         "woven fabric from polyester filament yarn dyed polyester size",
         "woven fabric from unrubbed polyester filament yarn",
         "woven fabric from polyester filament yarn dyed polyester size"
        ]
       ],
       "shape": {
        "columns": 3,
        "rows": 49988
       }
      },
      "text/html": [
       "<div>\n",
       "<style scoped>\n",
       "    .dataframe tbody tr th:only-of-type {\n",
       "        vertical-align: middle;\n",
       "    }\n",
       "\n",
       "    .dataframe tbody tr th {\n",
       "        vertical-align: top;\n",
       "    }\n",
       "\n",
       "    .dataframe thead th {\n",
       "        text-align: right;\n",
       "    }\n",
       "</style>\n",
       "<table border=\"1\" class=\"dataframe\">\n",
       "  <thead>\n",
       "    <tr style=\"text-align: right;\">\n",
       "      <th></th>\n",
       "      <th>Product List</th>\n",
       "      <th>Product</th>\n",
       "      <th>Product New</th>\n",
       "    </tr>\n",
       "  </thead>\n",
       "  <tbody>\n",
       "    <tr>\n",
       "      <th>0</th>\n",
       "      <td>vải polyester pha vải polyester dệt thoi dùng ...</td>\n",
       "      <td>vải polyester pha viscorayon</td>\n",
       "      <td>vải polyester pha vải polyester dệt thoi dùng ...</td>\n",
       "    </tr>\n",
       "    <tr>\n",
       "      <th>1</th>\n",
       "      <td>synthetic filament woven fabric nylon dyed for...</td>\n",
       "      <td>synthetic filament woven fabric</td>\n",
       "      <td>synthetic filament woven fabric nylon dyed for...</td>\n",
       "    </tr>\n",
       "    <tr>\n",
       "      <th>2</th>\n",
       "      <td>woven fabric from linen linen woven from yarns...</td>\n",
       "      <td>woven fabric from linen</td>\n",
       "      <td>woven fabric from linen linen woven from yarns...</td>\n",
       "    </tr>\n",
       "    <tr>\n",
       "      <th>3</th>\n",
       "      <td>vải dệt thoi nhuộm recycled polyester polyeste...</td>\n",
       "      <td>vải dệt thoi nhuộm</td>\n",
       "      <td>vải dệt thoi nhuộm recycled polyester polyeste...</td>\n",
       "    </tr>\n",
       "    <tr>\n",
       "      <th>4</th>\n",
       "      <td>woven fabric nylon poly size new for garment p...</td>\n",
       "      <td>woven fabric</td>\n",
       "      <td>woven fabric nylon poly size new for garment p...</td>\n",
       "    </tr>\n",
       "    <tr>\n",
       "      <th>...</th>\n",
       "      <td>...</td>\n",
       "      <td>...</td>\n",
       "      <td>...</td>\n",
       "    </tr>\n",
       "    <tr>\n",
       "      <th>49983</th>\n",
       "      <td>woven fabrics woven fabrics dyed polyester syn...</td>\n",
       "      <td>woven fabrics  woven fabrics  dyed</td>\n",
       "      <td>woven fabrics woven fabrics dyed polyester syn...</td>\n",
       "    </tr>\n",
       "    <tr>\n",
       "      <th>49984</th>\n",
       "      <td>sợi cotton cotton raw white yarn sợi đơn làm c...</td>\n",
       "      <td>sợi cotton</td>\n",
       "      <td>sợi cotton cotton raw white yarn sợi đơn làm c...</td>\n",
       "    </tr>\n",
       "    <tr>\n",
       "      <th>49985</th>\n",
       "      <td>sợi cotton sợi đơn làm không chải sợi nhuộm dạ...</td>\n",
       "      <td>sợi</td>\n",
       "      <td>sợi cotton sợi đơn làm không chải sợi nhuộm dạ...</td>\n",
       "    </tr>\n",
       "    <tr>\n",
       "      <th>49986</th>\n",
       "      <td>woven fabric microfiber polyester new</td>\n",
       "      <td>woven fabric  peack skin microfiber</td>\n",
       "      <td>woven fabric microfiber polyester new</td>\n",
       "    </tr>\n",
       "    <tr>\n",
       "      <th>49987</th>\n",
       "      <td>vải chính nylon khổ nguyên liệu sản xuất túi k...</td>\n",
       "      <td>vải chính</td>\n",
       "      <td>vải chính nylon khổ nguyên liệu sản xuất túi k...</td>\n",
       "    </tr>\n",
       "  </tbody>\n",
       "</table>\n",
       "<p>49988 rows × 3 columns</p>\n",
       "</div>"
      ],
      "text/plain": [
       "                                            Product List  \\\n",
       "0      vải polyester pha vải polyester dệt thoi dùng ...   \n",
       "1      synthetic filament woven fabric nylon dyed for...   \n",
       "2      woven fabric from linen linen woven from yarns...   \n",
       "3      vải dệt thoi nhuộm recycled polyester polyeste...   \n",
       "4      woven fabric nylon poly size new for garment p...   \n",
       "...                                                  ...   \n",
       "49983  woven fabrics woven fabrics dyed polyester syn...   \n",
       "49984  sợi cotton cotton raw white yarn sợi đơn làm c...   \n",
       "49985  sợi cotton sợi đơn làm không chải sợi nhuộm dạ...   \n",
       "49986              woven fabric microfiber polyester new   \n",
       "49987  vải chính nylon khổ nguyên liệu sản xuất túi k...   \n",
       "\n",
       "                                   Product  \\\n",
       "0             vải polyester pha viscorayon   \n",
       "1          synthetic filament woven fabric   \n",
       "2                  woven fabric from linen   \n",
       "3                       vải dệt thoi nhuộm   \n",
       "4                             woven fabric   \n",
       "...                                    ...   \n",
       "49983   woven fabrics  woven fabrics  dyed   \n",
       "49984                           sợi cotton   \n",
       "49985                                  sợi   \n",
       "49986  woven fabric  peack skin microfiber   \n",
       "49987                            vải chính   \n",
       "\n",
       "                                             Product New  \n",
       "0      vải polyester pha vải polyester dệt thoi dùng ...  \n",
       "1      synthetic filament woven fabric nylon dyed for...  \n",
       "2      woven fabric from linen linen woven from yarns...  \n",
       "3      vải dệt thoi nhuộm recycled polyester polyeste...  \n",
       "4      woven fabric nylon poly size new for garment p...  \n",
       "...                                                  ...  \n",
       "49983  woven fabrics woven fabrics dyed polyester syn...  \n",
       "49984  sợi cotton cotton raw white yarn sợi đơn làm c...  \n",
       "49985  sợi cotton sợi đơn làm không chải sợi nhuộm dạ...  \n",
       "49986              woven fabric microfiber polyester new  \n",
       "49987  vải chính nylon khổ nguyên liệu sản xuất túi k...  \n",
       "\n",
       "[49988 rows x 3 columns]"
      ]
     },
     "execution_count": 302,
     "metadata": {},
     "output_type": "execute_result"
    }
   ],
   "source": [
    "# Tạo set từ vựng phổ biến (các từ có count >= 10)\n",
    "common_words = set(df_word_count[df_word_count['Count'] >= 10]['Word'])\n",
    "\n",
    "common_words.update([\"ao\", \"quần\", \"quan\", \"soi\", \"bông\", \"xơ\", \"lông\", \"clothing\", \"cloth\"])\n",
    "# Hàm xử lý từng dòng Product để giữ lại từ nằm trong common_words theo thứ tự\n",
    "def extract_common_words(text):\n",
    "    words = text.split()\n",
    "    matched = [word for word in words if word in common_words]\n",
    "    return ' '.join(matched)\n",
    "\n",
    "# Áp dụng hàm lên cột 'Product' để tạo cột mới 'Product New'\n",
    "df_product['Product New'] = df_product['Product List'].apply(extract_common_words)\n",
    "df_product"
   ]
  },
  {
   "cell_type": "code",
   "execution_count": null,
   "id": "f6f2cf2f",
   "metadata": {},
   "outputs": [
    {
     "data": {
      "application/vnd.microsoft.datawrangler.viewer.v0+json": {
       "columns": [
        {
         "name": "index",
         "rawType": "int64",
         "type": "integer"
        },
        {
         "name": "Product List",
         "rawType": "object",
         "type": "string"
        },
        {
         "name": "Product",
         "rawType": "object",
         "type": "string"
        },
        {
         "name": "Product New",
         "rawType": "object",
         "type": "string"
        }
       ],
       "conversionMethod": "pd.DataFrame",
       "ref": "5df95140-f889-4d68-ae0d-9174245e16f0",
       "rows": [
        [
         "0",
         "vải polyester pha vải polyester dệt thoi dùng trong may khổ lượng mới",
         "vải polyester pha viscorayon",
         "vải  pha vải  dệt thoi"
        ],
        [
         "1",
         "synthetic filament woven fabric nylon dyed for garment new",
         "synthetic filament woven fabric",
         "synthetic filament woven fabric  dyed  garment"
        ],
        [
         "2",
         "woven fabric from linen linen woven from yarns different colors twill size weight",
         "woven fabric from linen",
         "woven fabric    woven  yarns  colors twill"
        ],
        [
         "3",
         "vải dệt thoi nhuộm recycled polyester polyester twill weave dùng trong may mới",
         "vải dệt thoi nhuộm",
         "vải dệt thoi nhuộm    twill weave"
        ],
        [
         "4",
         "woven fabric nylon poly size new for garment production",
         "woven fabric",
         "woven fabric      garment production"
        ],
        [
         "5",
         "fabric polyester woven fabric polyester filament density",
         "fabric",
         "fabric  woven fabric  filament density"
        ],
        [
         "6",
         "vải polyester yds khổ",
         "vải",
         "vải"
        ],
        [
         "7",
         "yarn wool nylon",
         "yarn",
         "yarn"
        ],
        [
         "8",
         "vải các loại nylon nylon lycra spandex",
         "vải các loại",
         "vải  loại"
        ],
        [
         "9",
         "vải cotton polyester spandex tẩy trắng nhuộm khổ lượng mới",
         "vải",
         "vải    tẩy trắng nhuộm"
        ],
        [
         "10",
         "vải dệt thoi khác sợi bông plain nguyên phụ liệu dùng trong sản xuất",
         "vải dệt thoi khác sợi bông",
         "vải dệt thoi  sợi bông plain nguyên phụ liệu"
        ],
        [
         "11",
         "woven fabric poly cotton size new",
         "woven fabric",
         "woven fabric"
        ],
        [
         "12",
         "vải nylon",
         "vải",
         "vải"
        ],
        [
         "13",
         "main fabric poly",
         "main fabric",
         "main fabric"
        ],
        [
         "14",
         "vải dệt thoi không dún sợi filament polyester khổ lượng mới",
         "vải dệt thoi không dún",
         "vải dệt thoi  dún sợi filament"
        ],
        [
         "15",
         "sample woven fabric used garment material polyester filament yarn code textile new",
         "sample woven fabric used garment",
         "sample woven fabric  garment material  filament yarn code textile"
        ],
        [
         "16",
         "fabric inner kimono silk size",
         "fabric inner kimono",
         "fabric inner kimono"
        ],
        [
         "17",
         "vải dệt thoi khổ",
         "vải dệt thoi khổ  cotton",
         "vải dệt thoi"
        ],
        [
         "18",
         "vải polyester vải dệt thoi khổ inch mới",
         "vải trng",
         "vải  vải dệt thoi"
        ],
        [
         "19",
         "sợi bông cotton sợi bông loại sợi đơn làm chải decitex thành phần cotton nhuộm",
         "sợi bông",
         "sợi bông  sợi bông loại sợi đơn làm chải decitex    nhuộm"
        ],
        [
         "20",
         "sợi đơn cotton làm chải chưa đóng gói bán decitex chỉ chỉ sợi",
         "sợi đơn",
         "sợi đơn  làm chải  đóng   decitex chỉ chỉ sợi"
        ],
        [
         "21",
         "woven fabric made polyester dyed cut the new",
         "woven fabric made",
         "woven fabric made  dyed cut the"
        ],
        [
         "22",
         "vải lót polyester dệt thoi mới",
         "vải lót",
         "vải lót  dệt thoi"
        ],
        [
         "23",
         "new woven fabric for upholstery polyester",
         "",
         "woven fabric  upholstery"
        ],
        [
         "24",
         "nylon woven fabric",
         "",
         "woven fabric"
        ],
        [
         "25",
         "main fabric polyester polyester size woven fabric from dyed dyed polyester filament yarn used for sewing garment new",
         "main fabric",
         "main fabric    woven fabric  dyed dyed  filament yarn   sewing garment"
        ],
        [
         "26",
         "synthetic filament woven fabric less than polyester mixed with recycled and less than dyed fabric size weight",
         "synthetic filament woven fabric less than",
         "synthetic filament woven fabric  than  mixed   and  than dyed fabric"
        ],
        [
         "27",
         "vải cotton dạng dệt thoi thành phần cotton nhuộm vân điểm khổ nguyên phụ liệu dùng sản xuất giày xuất mới",
         "vải cotton dạng dệt thoi",
         "vải  dạng dệt thoi    nhuộm  điểm  nguyên phụ liệu    giày"
        ],
        [
         "28",
         "vải chính polyester woven fabric",
         "vải chính  polyester",
         "vải chính  woven fabric"
        ],
        [
         "29",
         "dyed woven fabric lining fabric printed pattern size textile recycle polyester spandex dyed not printed",
         "dyed woven fabric",
         "dyed woven fabric lining fabric printed pattern  textile    dyed  printed"
        ],
        [
         "30",
         "woven fabric from synthetic filament yarn composed polyester dyed cotton cut make and new size",
         "woven fabric from synthetic filament yarn composed",
         "woven fabric  synthetic filament yarn composed  dyed  cut make and"
        ],
        [
         "31",
         "vải dệt thoi cotton spandex khổ",
         "vải dệt thoi",
         "vải dệt thoi"
        ],
        [
         "32",
         "polyester cotton fabric size k woven fabric used for new",
         "",
         "fabric   woven fabric"
        ],
        [
         "33",
         "synthetic staple fiber woven fabric yrd rec poly pag dty",
         "synthetic staple fiber woven fabric yrd rec poly pag  dty",
         "synthetic   woven fabric    pag"
        ],
        [
         "34",
         "synthetic filament yarn polyester dty recycled white yarn rolls for fabric production new",
         "synthetic filament yarn",
         "synthetic filament yarn    white yarn rolls  fabric production"
        ],
        [
         "35",
         "vải dệt thoi cotton nylon spandex khổ nhuộm mới",
         "vải dệt thoi",
         "vải dệt thoi     nhuộm"
        ],
        [
         "36",
         "woven fabric made filament yarn new composed unwrinkled unbleached polyester filament yarn weight size used printed",
         "woven fabric made filament yarn",
         "woven fabric made filament yarn  composed unwrinkled unbleached  filament yarn    printed"
        ],
        [
         "37",
         "sợi dún thành phần gồm multifilament nylon sợi spandex chưa đóng gói bán mới",
         "sợi dún  thành phần gồm",
         "sợi dún   gồm multifilament  sợi   đóng"
        ],
        [
         "38",
         "vải dệt thoi sợi filament bằng nylon nhuộm vải dệt thoi recycle nylon nylon spandex khổ mới",
         "vải dệt thoi trng sợi filament bằng nylon",
         "vải dệt thoi sợi filament bằng  nhuộm vải dệt thoi"
        ],
        [
         "39",
         "main fabric viscose polyester size from",
         "main fabric",
         "main fabric"
        ],
        [
         "40",
         "tc yarn yarn from synthetic staple fiber cotton polyester yarn from polyester staple fiber mixed with cotton",
         "tc yarn yarn from synthetic staple fiber",
         "yarn yarn  synthetic     yarn     mixed"
        ],
        [
         "41",
         "woven fabric fabric from yarns different colors polyester twill dyed size weight with used cover new",
         "woven fabric",
         "woven fabric fabric  yarns  colors  twill dyed     cover"
        ],
        [
         "42",
         "vải vân điểm khổ inch vải dệt thoi cotton nhuộm lượng dùng làm giày",
         "vải vân điểm khổ  inch",
         "vải  điểm   vải dệt thoi  nhuộm   làm giày"
        ],
        [
         "43",
         "vải cotton khổ",
         "vải cotton",
         "vải"
        ],
        [
         "44",
         "vải dệt thoi bông denim fabric lượng trên các sợi màu khác nhau mới",
         "vải dệt thoi bông  denim fabric",
         "vải dệt thoi bông denim fabric  trên  sợi màu  nhau"
        ],
        [
         "45",
         "synthetic filament woven fabric dyed other code polyester cotton size weight new",
         "synthetic filament woven fabric  dyed  other",
         "synthetic filament woven fabric dyed  code"
        ],
        [
         "46",
         "dyeed recycled polyester woven fabric dyed woven yds new",
         "dyeed",
         "dyeed   woven fabric dyed woven"
        ],
        [
         "47",
         "woven fabric from synthetic filament yarn nylon spandex dyed cut width width new",
         "woven fabric from synthetic filament yarn",
         "woven fabric  synthetic filament yarn   dyed cut"
        ],
        [
         "48",
         "vải dệt thoi sợi filament polyester dún nhuộm polyester khổ",
         "vải dệt thoi sợi filament polyester dún",
         "vải dệt thoi sợi filament  dún nhuộm"
        ],
        [
         "49",
         "woven fabric from polyester filament yarn dyed polyester size",
         "woven fabric from unrubbed polyester filament yarn",
         "woven fabric   filament yarn dyed"
        ]
       ],
       "shape": {
        "columns": 3,
        "rows": 49988
       }
      },
      "text/html": [
       "<div>\n",
       "<style scoped>\n",
       "    .dataframe tbody tr th:only-of-type {\n",
       "        vertical-align: middle;\n",
       "    }\n",
       "\n",
       "    .dataframe tbody tr th {\n",
       "        vertical-align: top;\n",
       "    }\n",
       "\n",
       "    .dataframe thead th {\n",
       "        text-align: right;\n",
       "    }\n",
       "</style>\n",
       "<table border=\"1\" class=\"dataframe\">\n",
       "  <thead>\n",
       "    <tr style=\"text-align: right;\">\n",
       "      <th></th>\n",
       "      <th>Product List</th>\n",
       "      <th>Product</th>\n",
       "      <th>Product New</th>\n",
       "    </tr>\n",
       "  </thead>\n",
       "  <tbody>\n",
       "    <tr>\n",
       "      <th>0</th>\n",
       "      <td>vải polyester pha vải polyester dệt thoi dùng ...</td>\n",
       "      <td>vải polyester pha viscorayon</td>\n",
       "      <td>vải  pha vải  dệt thoi</td>\n",
       "    </tr>\n",
       "    <tr>\n",
       "      <th>1</th>\n",
       "      <td>synthetic filament woven fabric nylon dyed for...</td>\n",
       "      <td>synthetic filament woven fabric</td>\n",
       "      <td>synthetic filament woven fabric  dyed  garment</td>\n",
       "    </tr>\n",
       "    <tr>\n",
       "      <th>2</th>\n",
       "      <td>woven fabric from linen linen woven from yarns...</td>\n",
       "      <td>woven fabric from linen</td>\n",
       "      <td>woven fabric    woven  yarns  colors twill</td>\n",
       "    </tr>\n",
       "    <tr>\n",
       "      <th>3</th>\n",
       "      <td>vải dệt thoi nhuộm recycled polyester polyeste...</td>\n",
       "      <td>vải dệt thoi nhuộm</td>\n",
       "      <td>vải dệt thoi nhuộm    twill weave</td>\n",
       "    </tr>\n",
       "    <tr>\n",
       "      <th>4</th>\n",
       "      <td>woven fabric nylon poly size new for garment p...</td>\n",
       "      <td>woven fabric</td>\n",
       "      <td>woven fabric      garment production</td>\n",
       "    </tr>\n",
       "    <tr>\n",
       "      <th>...</th>\n",
       "      <td>...</td>\n",
       "      <td>...</td>\n",
       "      <td>...</td>\n",
       "    </tr>\n",
       "    <tr>\n",
       "      <th>49983</th>\n",
       "      <td>woven fabrics woven fabrics dyed polyester syn...</td>\n",
       "      <td>woven fabrics  woven fabrics  dyed</td>\n",
       "      <td>woven fabrics woven fabrics dyed  synthetic fi...</td>\n",
       "    </tr>\n",
       "    <tr>\n",
       "      <th>49984</th>\n",
       "      <td>sợi cotton cotton raw white yarn sợi đơn làm c...</td>\n",
       "      <td>sợi cotton</td>\n",
       "      <td>sợi   raw white yarn sợi đơn làm chải</td>\n",
       "    </tr>\n",
       "    <tr>\n",
       "      <th>49985</th>\n",
       "      <td>sợi cotton sợi đơn làm không chải sợi nhuộm dạ...</td>\n",
       "      <td>sợi</td>\n",
       "      <td>sợi  sợi đơn làm  chải sợi nhuộm dạng cuộn  ch...</td>\n",
       "    </tr>\n",
       "    <tr>\n",
       "      <th>49986</th>\n",
       "      <td>woven fabric microfiber polyester new</td>\n",
       "      <td>woven fabric  peack skin microfiber</td>\n",
       "      <td>woven fabric microfiber</td>\n",
       "    </tr>\n",
       "    <tr>\n",
       "      <th>49987</th>\n",
       "      <td>vải chính nylon khổ nguyên liệu sản xuất túi k...</td>\n",
       "      <td>vải chính</td>\n",
       "      <td>vải chính   nguyên liệu   túi khí</td>\n",
       "    </tr>\n",
       "  </tbody>\n",
       "</table>\n",
       "<p>49988 rows × 3 columns</p>\n",
       "</div>"
      ],
      "text/plain": [
       "                                            Product List  \\\n",
       "0      vải polyester pha vải polyester dệt thoi dùng ...   \n",
       "1      synthetic filament woven fabric nylon dyed for...   \n",
       "2      woven fabric from linen linen woven from yarns...   \n",
       "3      vải dệt thoi nhuộm recycled polyester polyeste...   \n",
       "4      woven fabric nylon poly size new for garment p...   \n",
       "...                                                  ...   \n",
       "49983  woven fabrics woven fabrics dyed polyester syn...   \n",
       "49984  sợi cotton cotton raw white yarn sợi đơn làm c...   \n",
       "49985  sợi cotton sợi đơn làm không chải sợi nhuộm dạ...   \n",
       "49986              woven fabric microfiber polyester new   \n",
       "49987  vải chính nylon khổ nguyên liệu sản xuất túi k...   \n",
       "\n",
       "                                   Product  \\\n",
       "0             vải polyester pha viscorayon   \n",
       "1          synthetic filament woven fabric   \n",
       "2                  woven fabric from linen   \n",
       "3                       vải dệt thoi nhuộm   \n",
       "4                             woven fabric   \n",
       "...                                    ...   \n",
       "49983   woven fabrics  woven fabrics  dyed   \n",
       "49984                           sợi cotton   \n",
       "49985                                  sợi   \n",
       "49986  woven fabric  peack skin microfiber   \n",
       "49987                            vải chính   \n",
       "\n",
       "                                             Product New  \n",
       "0                                 vải  pha vải  dệt thoi  \n",
       "1         synthetic filament woven fabric  dyed  garment  \n",
       "2             woven fabric    woven  yarns  colors twill  \n",
       "3                      vải dệt thoi nhuộm    twill weave  \n",
       "4                   woven fabric      garment production  \n",
       "...                                                  ...  \n",
       "49983  woven fabrics woven fabrics dyed  synthetic fi...  \n",
       "49984              sợi   raw white yarn sợi đơn làm chải  \n",
       "49985  sợi  sợi đơn làm  chải sợi nhuộm dạng cuộn  ch...  \n",
       "49986                            woven fabric microfiber  \n",
       "49987                  vải chính   nguyên liệu   túi khí  \n",
       "\n",
       "[49988 rows x 3 columns]"
      ]
     },
     "execution_count": 293,
     "metadata": {},
     "output_type": "execute_result"
    }
   ],
   "source": [
    "choose_list = ['polyester', 'cotton', 'recycle', 'organic', 'nylon', 'nylon6', 'rayon', 'modal', 'poly', 'polyamide', 'elastane', \n",
    "               'chemically', 'mechanically', 'viscose', 'acrylic', 'generic', 'thermoplastic', 'cationic', 'polyethylene', \n",
    "               'cashmere', 'recycled', 'lyra', 'eco', 'matta', 'tencel', 't400', 'pp', 'polypropylen', 'polyurethane','dye', \n",
    "               'core spun yarrn', 'rec', 'regenerative', 'post consumer', 'merino', 'elastic', 'spandex', 'triacetate', \n",
    "               'span', 'metallic', 'elastomultiester', 'lyocell', 'ecovero', 'post-consumer', 'taffeta', 'lycra', 'bci','linen',\n",
    "               'brood', 'protein', 'pa6', 'wool', 'polyethyene', 'acetate', 'spdx', 'other','elastan', 'lurex', 'epe', 'hemp',\n",
    "               'pes', 'silk', 'birla', 'livaeco', 'elasthan', 'spandexdún', 'elasterell', 'rumble', 'recyclepolyester', 'elastaned',\n",
    "               'elasta','elast','elastance', 'spanex', 'elasthanne', 'vi', 'ea', 'static', 'biconstituent', 'grey', 'pu', 'spx', \n",
    "               'polyeser', 'vicose', 'ployeser', 'cly', 'rec', 'polyurethan', 'tpu', 'spande', 'elastimultiester', 'elanstane', \n",
    "               'fiber','fiber', 'metallised', 'elstance', 'elastanedcdp', 'elastanes', 'el', 'elstane', 'organiccotton', 'biconstituent',\n",
    "               'metallised', 'polye', 'lyocel', 'polyeste', 'sapndex', 'viscosed', 'bemberg', 'visecose', 'vicoseb','cupro', 'vie',\n",
    "               'coton', 'truehemp', 'loycell', 'ployester', 'pa', 'gec', 're', 'ly', 'coolmax', 'co', 'acr', 'vis', 'mono', 'bamboo',\n",
    "               'long', 'staple', 'model', 'pol', 'polyvinyl', 'pva', 'staple', 'cordura', 'aramid', 'size', 'for', 'new', 'hang', 'mới',\n",
    "               'khổ', 'inch', 'from', 'width', 'tc', 'k', 'yds', 'hoặc', 'for', 'dùng', 'hàng', 'trong', 'may', 'sản', 'xuất', 'lượng',\n",
    "               'weight', 'different', 'yrd', 'tổng', 'bán', 'gói', 'đã', 'chưa', 'dty', 'khác', 'chiếm', 'used', 'ingredients',\n",
    "               'more', 'less', 'không', 'quá', 'not', 'thành', 'phần', 'vân', 'with', 'phẩm', 'các', 'and', 'chất', 'liệu', 'thanh',\n",
    "               'high', 'gồm']\n",
    "\n",
    "pattern = '|'.join([fr'\\b{word}\\b' for word in choose_list])\n",
    "\n",
    "# Loại bỏ các từ trong choose_list\n",
    "df_product['Product New'] = df_product['Product New'].str.replace(pattern, '', regex=True)\n",
    "\n",
    "# Xóa khoảng trắng thừa còn sót lại\n",
    "df_product['Product New'] = df_product['Product New'].str.strip()\n",
    "\n",
    "df_product"
   ]
  },
  {
   "cell_type": "code",
   "execution_count": 294,
   "id": "345d84fe",
   "metadata": {},
   "outputs": [
    {
     "data": {
      "application/vnd.microsoft.datawrangler.viewer.v0+json": {
       "columns": [
        {
         "name": "index",
         "rawType": "int64",
         "type": "integer"
        },
        {
         "name": "Product List",
         "rawType": "object",
         "type": "string"
        },
        {
         "name": "label",
         "rawType": "object",
         "type": "string"
        },
        {
         "name": "Product New",
         "rawType": "object",
         "type": "string"
        }
       ],
       "conversionMethod": "pd.DataFrame",
       "ref": "ff71fed4-cc6c-48f7-a848-326f6130dd14",
       "rows": [
        [
         "0",
         "vải polyester pha viscorayon (vải 65% polyester 35% viscorayon) dệt thoi dùng trong may mặc khổ 58-60\" ( định lượng: 1 mét = 0,4267 kg) hàng mới 100% @",
         "Vải",
         "vải  pha vải  dệt thoi"
        ],
        [
         "1",
         "synthetic filament woven fabric, 91%nylon 9%spandex_90dx180d, 109x97, 175g/sqm, 53'', dyed, aquatic ice, for garment use, 100% new",
         "Vải",
         "synthetic filament woven fabric  dyed  garment"
        ],
        [
         "2",
         "woven fabric from linen, 100% linen, woven from yarns of different colors, no streaks, no twill, size 51/52\", weight 142.62g/m2",
         "Vải",
         "woven fabric    woven  yarns  colors twill"
        ],
        [
         "3",
         "vải dệt thoi đã nhuộm (54% recycled post-consumer polyester, 46% polyester twill weave 49\") 205g/m2. dùng trong may mặc. mới 100%. @",
         "Vải",
         "vải dệt thoi nhuộm    twill weave"
        ],
        [
         "4",
         "woven fabric 75% nylon 25% poly size 58\", 149g/yd, 100% new for garment production=4106yd",
         "Vải",
         "woven fabric      garment production"
        ],
        [
         "5",
         "fabric 100% polyester 44'' (woven fabric, 100% polyester filament density)",
         "Vải",
         "fabric  woven fabric  filament density"
        ],
        [
         "6",
         "vải 100% polyester (polyamide) (17856 yds -khổ 59\") @",
         "Vải",
         "vải"
        ],
        [
         "7",
         "yarn 78% wool 22% nylon",
         "Sợi",
         "yarn"
        ],
        [
         "8",
         "vải các loại 96% nylon(nylon=polyamide) 4% elastane(lycra=spandex=elastane) (70025377) @",
         "Vải",
         "vải  loại"
        ],
        [
         "9",
         "vải 20% cotton 75.5% polyester 4.5% spandex (đã tẩy trắng, đã nhuộm) khổ 55'' trọng lượng 118g/m2.( hàng mới 100%) @",
         "Vải",
         "vải    tẩy trắng nhuộm"
        ],
        [
         "10",
         "vải dệt thoi khác từ sợi bông-100% cottoncd30xcd30, 68x68, plain b/tape 30's-nguyên phụ liệu dùng trong sản xuất nón-57/58 @",
         "Vải",
         "vải dệt thoi  sợi bông plain nguyên phụ liệu"
        ],
        [
         "11",
         "woven fabric 59%poly 41%cotton, size 58\" (671yds). 100% new.",
         "Vải",
         "woven fabric"
        ],
        [
         "12",
         "vải 100% nylon 56\" (fr1200ka) @",
         "Vải",
         "vải"
        ],
        [
         "13",
         "main fabric 100%poly 58-60\"",
         "Vải",
         "main fabric"
        ],
        [
         "14",
         "vải dệt thoi không dún, từ sợi filament 100% polyester, 170t, khổ 220cm, w535, định lượng 65g/m2, mới 100% @",
         "Vải",
         "vải dệt thoi  dún sợi filament"
        ],
        [
         "15",
         "sample woven fabric used in garment, material 100% polyester filament yarn, code: jkb23-002, nsx: suzhou shunging textile co.,ltd, 100% brand new",
         "Vải",
         "sample woven fabric  garment material  filament yarn code textile"
        ],
        [
         "16",
         "fabric inner of kimono, 100% silk, size: 0.4m length (2-8m)",
         "Vải",
         "fabric inner kimono"
        ],
        [
         "17",
         "vải dệt thoi khổ 95 cm cotton100% ty3659_3_un3999 @",
         "Vải",
         "vải dệt thoi"
        ],
        [
         "18",
         "vải có tỷ trọng 100% polyester (vải dệt thoi) / sh-488 khổ 60 inch. hàng mới 100% @",
         "Vải",
         "vải  vải dệt thoi"
        ],
        [
         "19",
         "sợi bông (100% cotton)( sợi bông loại 32/1 (32sjc), sợi đơn làm từ xơ chải kỹ độ mảnh 184.56 decitex, chi số mét 54.176, thành phần 100% cotton, đã nhuộm yc4623d) @",
         "Sợi",
         "sợi bông  sợi bông loại sợi đơn làm chải decitex    nhuộm"
        ],
        [
         "20",
         "sợi đơn 100% cotton làm từ xơ chải kỹ (chưa đóng gói để bán lẻ), độ mảnh 196.83 decitex, chỉ số mét 50.7, chỉ số sợi 30/1 @",
         "Sợi",
         "sợi đơn  làm chải  đóng   decitex chỉ chỉ sợi"
        ],
        [
         "21",
         "woven fabric made of 100% polyester dyed, cut to support the pants; 100% new; kt: 0.02m2",
         "Vải",
         "woven fabric made  dyed cut the"
        ],
        [
         "22",
         "vải lót 100% polyester \"58/60\" dệt thoi. hàng mới 100% @",
         "Vải",
         "vải lót  dệt thoi"
        ],
        [
         "23",
         "100% new woven burlap fabric 140cm for upholstery (loki)(polyester 58, olefin 42% - 304g/m2)",
         "Vải",
         "woven fabric  upholstery"
        ],
        [
         "24",
         "52\" 100% nylon woven fabric",
         "Vải",
         "woven fabric"
        ],
        [
         "25",
         "main fabric 62% polyester 38% reprocessed polyester. size 57/58\" (woven fabric from dyed, dyed polyester filament yarn, used for sewing garment processing products). 100% new product",
         "Vải",
         "main fabric    woven fabric  dyed dyed  filament yarn   sewing garment"
        ],
        [
         "26",
         "synthetic filament woven fabric less than 85% polyester mixed with recycled and pu less than 46%, dyed, fabric size 44/60\" weight 79,263g/m2",
         "Vải",
         "synthetic filament woven fabric  than  mixed   and  than dyed fabric"
        ],
        [
         "27",
         "vải cotton: dạng dệt thoi, thành phần 100% cotton, đã nhuộm, có vân điểm, 218g/m2, khổ rộng 36\", 44\", 54\", nguyên phụ liệu dùng sản xuất giày xuất khẩu, hàng mới 100% @",
         "Vải",
         "vải  dạng dệt thoi    nhuộm  điểm  nguyên phụ liệu    giày"
        ],
        [
         "28",
         "vải chính typ0527 polyester 100% woven fabric w.145cm @",
         "Vải",
         "vải chính  woven fabric"
        ],
        [
         "29",
         "dyed woven fabric (lining fabric), no printed pattern size 58\"/textile-80% recycle polyester +20% spandex-dyed ,not printed-58\"/250g",
         "Vải",
         "dyed woven fabric lining fabric printed pattern  textile    dyed  printed"
        ],
        [
         "30",
         "woven fabric from synthetic filament yarn composed of 93% polyester, 7% dyed cotton, cut to make left and right front straps, 100% new, size: 0.06m2",
         "Vải",
         "woven fabric  synthetic filament yarn composed  dyed  cut make and"
        ],
        [
         "31",
         "vải dệt thoi 97% cotton, 3% spandex khổ 57\" ( 1,510.1 mtr) @",
         "Vải",
         "vải dệt thoi"
        ],
        [
         "32",
         "80%polyester 20%cotton fabric size 56/62\" (k.147cm, 88gsm, woven fabric, used for garments, 100% new)",
         "Vải",
         "fabric   woven fabric"
        ],
        [
         "33",
         "synthetic staple fiber woven fabric yrd/11k rec poly pag 2 dty (100%) dj-570-8r(100%) 44\"",
         "Nguyên_Liệu",
         "synthetic   woven fabric    pag"
        ],
        [
         "34",
         "synthetic filament yarn 100% polyester dty sd recycled 50d/24f(55.5dtex/24f) sim s twist aay grade, white yarn, in rolls, for fabric production, brand:no. 100% new",
         "Vải",
         "synthetic filament yarn    white yarn rolls  fabric production"
        ],
        [
         "35",
         "vải dệt thoi 57%cotton 38%brrr nylon 5 %spandex khổ 52\" 107g/m2, đã nhuộm, mới 100% @",
         "Vải",
         "vải dệt thoi     nhuộm"
        ],
        [
         "36",
         "woven fabric made of filament yarn 100 (100% new, composed of 100% unwrinkled, unbleached polyester filament yarn, weight 48.42g/m2, size 1.58m, used to produce printed screen frames)",
         "Vải",
         "woven fabric made filament yarn  composed unwrinkled unbleached  filament yarn    printed"
        ],
        [
         "37",
         "sợi dún 20/30/24f thành phần gồm 79% multifilament nylon 21%sợi đàn hồi polyeurethane spandex chưa đóng gói để bán lẻ,mới 100% @",
         "Sợi",
         "sợi dún   gồm multifilament  sợi   đóng"
        ],
        [
         "38",
         "vải dệt thoi có tỷ trọng sợi filament bằng nylon từ 85% trở lên, đã nhuộm. vải dệt thoi 65% recycle nylon 30% nylon, 5% spandex. khổ 56\". 5,521 m, hàng mới 100% @",
         "Vải",
         "vải dệt thoi sợi filament bằng  nhuộm vải dệt thoi"
        ],
        [
         "39",
         "main fabric 49%viscose 47%polyester 4%elastane, size: 50/52\"_goods shipped domestically from account: 10283398350/e31",
         "Vải",
         "main fabric"
        ],
        [
         "40",
         "tc yarn: yarn from synthetic staple fiber, ne 32/1 (cotton 30%/polyester 70%). yarn from polyester staple fiber mixed with cotton.",
         "Sợi",
         "yarn yarn  synthetic     yarn     mixed"
        ],
        [
         "41",
         "woven fabric (fabric-3) from yarns of different colors, 100% polyester twill, dyed, size 145cm, weight 182g/m2, unbranded, with label. used to cover sofas. new 100%",
         "Vải",
         "woven fabric fabric  yarns  colors  twill dyed     cover"
        ],
        [
         "42",
         "vải vân điểm khổ 56 inch (vải dệt thoi 100% cotton đã nhuộm trọng lượng 283g/m2) dùng để làm giày @",
         "Vải",
         "vải  điểm   vải dệt thoi  nhuộm   làm giày"
        ],
        [
         "43",
         "vải cotton 100% - khổ 1.02m @",
         "Vải",
         "vải"
        ],
        [
         "44",
         "vải dệt thoi từ bông v0137k1t1d denim fabric c:75% p:24% ly:1%trọng lượng trên 200g/m2, từ các sợi có màu khác nhau, hàng mới 100%, đg: . @",
         "Vải",
         "vải dệt thoi bông denim fabric  trên  sợi màu  nhau"
        ],
        [
         "45",
         "synthetic filament woven fabric - dyed - other, code 000tfabbangkok, 65% polyester, 35% cotton, size 147 cm, weight 165g/sqm. new 100%",
         "Vải",
         "synthetic filament woven fabric dyed  code"
        ],
        [
         "46",
         "dyeed 100% recycled polyester woven fabric, dyed-70 g/m2-woven (l: 258 yds,w: 56 inches). 100% new",
         "Vải",
         "dyeed   woven fabric dyed woven"
        ],
        [
         "47",
         "woven fabric from synthetic filament yarn 90% nylon 10% spandex (elastane), dyed, cut width 137.16 cm (54 inches), width including edges 56 inches, 66g/m2. new 100%",
         "Vải",
         "woven fabric  synthetic filament yarn   dyed cut"
        ],
        [
         "48",
         "vải dệt thoi từ sợi filament polyester dún, đã nhuộm polyester 100% khổ 148cm, 136g/m2 @",
         "Vải",
         "vải dệt thoi sợi filament  dún nhuộm"
        ],
        [
         "49",
         "woven fabric from unrubbed polyester filament yarn, dyed 100% polyester, size 148cm, 75g/m2",
         "Vải",
         "woven fabric   filament yarn dyed"
        ]
       ],
       "shape": {
        "columns": 3,
        "rows": 49988
       }
      },
      "text/html": [
       "<div>\n",
       "<style scoped>\n",
       "    .dataframe tbody tr th:only-of-type {\n",
       "        vertical-align: middle;\n",
       "    }\n",
       "\n",
       "    .dataframe tbody tr th {\n",
       "        vertical-align: top;\n",
       "    }\n",
       "\n",
       "    .dataframe thead th {\n",
       "        text-align: right;\n",
       "    }\n",
       "</style>\n",
       "<table border=\"1\" class=\"dataframe\">\n",
       "  <thead>\n",
       "    <tr style=\"text-align: right;\">\n",
       "      <th></th>\n",
       "      <th>Product List</th>\n",
       "      <th>label</th>\n",
       "      <th>Product New</th>\n",
       "    </tr>\n",
       "  </thead>\n",
       "  <tbody>\n",
       "    <tr>\n",
       "      <th>0</th>\n",
       "      <td>vải polyester pha viscorayon (vải 65% polyeste...</td>\n",
       "      <td>Vải</td>\n",
       "      <td>vải  pha vải  dệt thoi</td>\n",
       "    </tr>\n",
       "    <tr>\n",
       "      <th>1</th>\n",
       "      <td>synthetic filament woven fabric, 91%nylon 9%sp...</td>\n",
       "      <td>Vải</td>\n",
       "      <td>synthetic filament woven fabric  dyed  garment</td>\n",
       "    </tr>\n",
       "    <tr>\n",
       "      <th>2</th>\n",
       "      <td>woven fabric from linen, 100% linen, woven fro...</td>\n",
       "      <td>Vải</td>\n",
       "      <td>woven fabric    woven  yarns  colors twill</td>\n",
       "    </tr>\n",
       "    <tr>\n",
       "      <th>3</th>\n",
       "      <td>vải dệt thoi đã nhuộm (54% recycled post-consu...</td>\n",
       "      <td>Vải</td>\n",
       "      <td>vải dệt thoi nhuộm    twill weave</td>\n",
       "    </tr>\n",
       "    <tr>\n",
       "      <th>4</th>\n",
       "      <td>woven fabric 75% nylon 25% poly size 58\", 149g...</td>\n",
       "      <td>Vải</td>\n",
       "      <td>woven fabric      garment production</td>\n",
       "    </tr>\n",
       "    <tr>\n",
       "      <th>...</th>\n",
       "      <td>...</td>\n",
       "      <td>...</td>\n",
       "      <td>...</td>\n",
       "    </tr>\n",
       "    <tr>\n",
       "      <th>49983</th>\n",
       "      <td>woven fabrics - woven fabrics - dyed, city: 54...</td>\n",
       "      <td>Vải</td>\n",
       "      <td>woven fabrics woven fabrics dyed  synthetic fi...</td>\n",
       "    </tr>\n",
       "    <tr>\n",
       "      <th>49984</th>\n",
       "      <td>sợi cotton 100%- 100% cotton (supima) raw whit...</td>\n",
       "      <td>Sợi</td>\n",
       "      <td>sợi   raw white yarn sợi đơn làm chải</td>\n",
       "    </tr>\n",
       "    <tr>\n",
       "      <th>49985</th>\n",
       "      <td>sợi 100% cotton sa201020a-oe 10s/1 sợi đơn, là...</td>\n",
       "      <td>Sợi</td>\n",
       "      <td>sợi  sợi đơn làm  chải sợi nhuộm dạng cuộn  ch...</td>\n",
       "    </tr>\n",
       "    <tr>\n",
       "      <th>49986</th>\n",
       "      <td>woven fabric 220t/p75d*150d peack skin microfi...</td>\n",
       "      <td>Vải</td>\n",
       "      <td>woven fabric microfiber</td>\n",
       "    </tr>\n",
       "    <tr>\n",
       "      <th>49987</th>\n",
       "      <td>vải chính 100% nylon 4l50b25r-na khổ 200 cm (n...</td>\n",
       "      <td>Vải</td>\n",
       "      <td>vải chính   nguyên liệu   túi khí</td>\n",
       "    </tr>\n",
       "  </tbody>\n",
       "</table>\n",
       "<p>49988 rows × 3 columns</p>\n",
       "</div>"
      ],
      "text/plain": [
       "                                            Product List label  \\\n",
       "0      vải polyester pha viscorayon (vải 65% polyeste...   Vải   \n",
       "1      synthetic filament woven fabric, 91%nylon 9%sp...   Vải   \n",
       "2      woven fabric from linen, 100% linen, woven fro...   Vải   \n",
       "3      vải dệt thoi đã nhuộm (54% recycled post-consu...   Vải   \n",
       "4      woven fabric 75% nylon 25% poly size 58\", 149g...   Vải   \n",
       "...                                                  ...   ...   \n",
       "49983  woven fabrics - woven fabrics - dyed, city: 54...   Vải   \n",
       "49984  sợi cotton 100%- 100% cotton (supima) raw whit...   Sợi   \n",
       "49985  sợi 100% cotton sa201020a-oe 10s/1 sợi đơn, là...   Sợi   \n",
       "49986  woven fabric 220t/p75d*150d peack skin microfi...   Vải   \n",
       "49987  vải chính 100% nylon 4l50b25r-na khổ 200 cm (n...   Vải   \n",
       "\n",
       "                                             Product New  \n",
       "0                                 vải  pha vải  dệt thoi  \n",
       "1         synthetic filament woven fabric  dyed  garment  \n",
       "2             woven fabric    woven  yarns  colors twill  \n",
       "3                      vải dệt thoi nhuộm    twill weave  \n",
       "4                   woven fabric      garment production  \n",
       "...                                                  ...  \n",
       "49983  woven fabrics woven fabrics dyed  synthetic fi...  \n",
       "49984              sợi   raw white yarn sợi đơn làm chải  \n",
       "49985  sợi  sợi đơn làm  chải sợi nhuộm dạng cuộn  ch...  \n",
       "49986                            woven fabric microfiber  \n",
       "49987                  vải chính   nguyên liệu   túi khí  \n",
       "\n",
       "[49988 rows x 3 columns]"
      ]
     },
     "execution_count": 294,
     "metadata": {},
     "output_type": "execute_result"
    }
   ],
   "source": [
    "df['Product New'] = df_product['Product New']\n",
    "df=df[['Product List', 'label', 'Product New']]\n",
    "df"
   ]
  }
 ],
 "metadata": {
  "kernelspec": {
   "display_name": "Python 3",
   "language": "python",
   "name": "python3"
  },
  "language_info": {
   "codemirror_mode": {
    "name": "ipython",
    "version": 3
   },
   "file_extension": ".py",
   "mimetype": "text/x-python",
   "name": "python",
   "nbconvert_exporter": "python",
   "pygments_lexer": "ipython3",
   "version": "3.13.0"
  }
 },
 "nbformat": 4,
 "nbformat_minor": 5
}
